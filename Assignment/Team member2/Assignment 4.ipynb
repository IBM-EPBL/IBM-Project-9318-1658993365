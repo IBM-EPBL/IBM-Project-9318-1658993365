{
 "cells": [
  {
   "cell_type": "markdown",
   "metadata": {},
   "source": [
    "# Loading the dataset"
   ]
  },
  {
   "cell_type": "code",
   "execution_count": 81,
   "metadata": {},
   "outputs": [],
   "source": [
    "import pandas as pd \n",
    "import numpy as np\n",
    "import matplotlib.pyplot as plt\n",
    "import seaborn as sns\n",
    "import warnings \n",
    "warnings.filterwarnings('ignore')"
   ]
  },
  {
   "cell_type": "code",
   "execution_count": 2,
   "metadata": {},
   "outputs": [],
   "source": [
    "d = pd.read_csv(r'abalone.csv')"
   ]
  },
  {
   "cell_type": "markdown",
   "metadata": {},
   "source": [
    "# Perform visualization\n",
    "# Univariate analysis"
   ]
  },
  {
   "cell_type": "code",
   "execution_count": 3,
   "metadata": {},
   "outputs": [
    {
     "data": {
      "text/html": [
       "<div>\n",
       "<style scoped>\n",
       "    .dataframe tbody tr th:only-of-type {\n",
       "        vertical-align: middle;\n",
       "    }\n",
       "\n",
       "    .dataframe tbody tr th {\n",
       "        vertical-align: top;\n",
       "    }\n",
       "\n",
       "    .dataframe thead th {\n",
       "        text-align: right;\n",
       "    }\n",
       "</style>\n",
       "<table border=\"1\" class=\"dataframe\">\n",
       "  <thead>\n",
       "    <tr style=\"text-align: right;\">\n",
       "      <th></th>\n",
       "      <th>Sex</th>\n",
       "      <th>Length</th>\n",
       "      <th>Diameter</th>\n",
       "      <th>Height</th>\n",
       "      <th>Whole weight</th>\n",
       "      <th>Shucked weight</th>\n",
       "      <th>Viscera weight</th>\n",
       "      <th>Shell weight</th>\n",
       "      <th>Rings</th>\n",
       "    </tr>\n",
       "  </thead>\n",
       "  <tbody>\n",
       "    <tr>\n",
       "      <th>0</th>\n",
       "      <td>M</td>\n",
       "      <td>0.455</td>\n",
       "      <td>0.365</td>\n",
       "      <td>0.095</td>\n",
       "      <td>0.5140</td>\n",
       "      <td>0.2245</td>\n",
       "      <td>0.1010</td>\n",
       "      <td>0.150</td>\n",
       "      <td>15</td>\n",
       "    </tr>\n",
       "    <tr>\n",
       "      <th>1</th>\n",
       "      <td>M</td>\n",
       "      <td>0.350</td>\n",
       "      <td>0.265</td>\n",
       "      <td>0.090</td>\n",
       "      <td>0.2255</td>\n",
       "      <td>0.0995</td>\n",
       "      <td>0.0485</td>\n",
       "      <td>0.070</td>\n",
       "      <td>7</td>\n",
       "    </tr>\n",
       "    <tr>\n",
       "      <th>2</th>\n",
       "      <td>F</td>\n",
       "      <td>0.530</td>\n",
       "      <td>0.420</td>\n",
       "      <td>0.135</td>\n",
       "      <td>0.6770</td>\n",
       "      <td>0.2565</td>\n",
       "      <td>0.1415</td>\n",
       "      <td>0.210</td>\n",
       "      <td>9</td>\n",
       "    </tr>\n",
       "    <tr>\n",
       "      <th>3</th>\n",
       "      <td>M</td>\n",
       "      <td>0.440</td>\n",
       "      <td>0.365</td>\n",
       "      <td>0.125</td>\n",
       "      <td>0.5160</td>\n",
       "      <td>0.2155</td>\n",
       "      <td>0.1140</td>\n",
       "      <td>0.155</td>\n",
       "      <td>10</td>\n",
       "    </tr>\n",
       "    <tr>\n",
       "      <th>4</th>\n",
       "      <td>I</td>\n",
       "      <td>0.330</td>\n",
       "      <td>0.255</td>\n",
       "      <td>0.080</td>\n",
       "      <td>0.2050</td>\n",
       "      <td>0.0895</td>\n",
       "      <td>0.0395</td>\n",
       "      <td>0.055</td>\n",
       "      <td>7</td>\n",
       "    </tr>\n",
       "  </tbody>\n",
       "</table>\n",
       "</div>"
      ],
      "text/plain": [
       "  Sex  Length  Diameter  Height  Whole weight  Shucked weight  Viscera weight  \\\n",
       "0   M   0.455     0.365   0.095        0.5140          0.2245          0.1010   \n",
       "1   M   0.350     0.265   0.090        0.2255          0.0995          0.0485   \n",
       "2   F   0.530     0.420   0.135        0.6770          0.2565          0.1415   \n",
       "3   M   0.440     0.365   0.125        0.5160          0.2155          0.1140   \n",
       "4   I   0.330     0.255   0.080        0.2050          0.0895          0.0395   \n",
       "\n",
       "   Shell weight  Rings  \n",
       "0         0.150     15  \n",
       "1         0.070      7  \n",
       "2         0.210      9  \n",
       "3         0.155     10  \n",
       "4         0.055      7  "
      ]
     },
     "execution_count": 3,
     "metadata": {},
     "output_type": "execute_result"
    }
   ],
   "source": [
    "d.head()"
   ]
  },
  {
   "cell_type": "code",
   "execution_count": 6,
   "metadata": {},
   "outputs": [
    {
     "data": {
      "text/plain": [
       "(array([  13.,   66.,  180.,  344.,  513.,  812., 1017.,  934.,  275.,\n",
       "          23.]),\n",
       " array([0.055 , 0.1145, 0.174 , 0.2335, 0.293 , 0.3525, 0.412 , 0.4715,\n",
       "        0.531 , 0.5905, 0.65  ]),\n",
       " <BarContainer object of 10 artists>)"
      ]
     },
     "execution_count": 6,
     "metadata": {},
     "output_type": "execute_result"
    },
    {
     "data": {
      "image/png": "[encoded data removed]",
      "text/plain": [
       "<Figure size 432x288 with 1 Axes>"
      ]
     },
     "metadata": {
      "needs_background": "light"
     },
     "output_type": "display_data"
    }
   ],
   "source": [
    "plt.hist(d['Diameter'])"
   ]
  },
  {
   "cell_type": "code",
   "execution_count": 7,
   "metadata": {},
   "outputs": [
    {
     "data": {
      "text/plain": [
       "[<matplotlib.lines.Line2D at 0x13640a18>]"
      ]
     },
     "execution_count": 7,
     "metadata": {},
     "output_type": "execute_result"
    },
    {
     "data": {
      "image/png": "[encoded data removed]",
      "text/plain": [
       "<Figure size 432x288 with 1 Axes>"
      ]
     },
     "metadata": {
      "needs_background": "light"
     },
     "output_type": "display_data"
    }
   ],
   "source": [
    "plt.plot(d['Diameter'].head(10))"
   ]
  },
  {
   "cell_type": "code",
   "execution_count": 8,
   "metadata": {},
   "outputs": [
    {
     "data": {
      "text/plain": [
       "([<matplotlib.patches.Wedge at 0x13681160>,\n",
       "  <matplotlib.patches.Wedge at 0x136814d8>,\n",
       "  <matplotlib.patches.Wedge at 0x13681820>,\n",
       "  <matplotlib.patches.Wedge at 0x13681b68>,\n",
       "  <matplotlib.patches.Wedge at 0x13681eb0>],\n",
       " [Text(0.8507215626110557, 0.6973326486753676, ''),\n",
       "  Text(-0.32611344931648134, 1.0505474849691026, ''),\n",
       "  Text(-1.0998053664078908, -0.02069193128747144, ''),\n",
       "  Text(-0.08269436219656089, -1.096887251480709, ''),\n",
       "  Text(0.9758446362287218, -0.5076684409569241, '')],\n",
       " [Text(0.46402994324239394, 0.3803632629138369, '21.86'),\n",
       "  Text(-0.17788006326353525, 0.5730259008922377, '15.87'),\n",
       "  Text(-0.5998938362224858, -0.011286507974984419, '25.15'),\n",
       "  Text(-0.045106015743578656, -0.5983021371712958, '21.86'),\n",
       "  Text(0.5322788924883937, -0.2769100587037768, '15.27')])"
      ]
     },
     "execution_count": 8,
     "metadata": {},
     "output_type": "execute_result"
    },
    {
     "data": {
      "image/png": "[encoded data removed]",
      "text/plain": [
       "<Figure size 432x288 with 1 Axes>"
      ]
     },
     "metadata": {},
     "output_type": "display_data"
    }
   ],
   "source": [
    "plt.pie(d['Diameter'].head(),autopct='%.2f')"
   ]
  },
  {
   "cell_type": "markdown",
   "metadata": {},
   "source": [
    "# Bivariate Analysis"
   ]
  },
  {
   "cell_type": "code",
   "execution_count": 10,
   "metadata": {},
   "outputs": [
    {
     "data": {
      "text/plain": [
       "<matplotlib.collections.PathCollection at 0x13bd4b20>"
      ]
     },
     "execution_count": 10,
     "metadata": {},
     "output_type": "execute_result"
    },
    {
     "data": {
      "image/png": "[encoded data removed]",
      "text/plain": [
       "<Figure size 432x288 with 1 Axes>"
      ]
     },
     "metadata": {
      "needs_background": "light"
     },
     "output_type": "display_data"
    }
   ],
   "source": [
    "plt.scatter(d['Diameter'].head(500),d['Length'].head(500))"
   ]
  },
  {
   "cell_type": "code",
   "execution_count": 12,
   "metadata": {},
   "outputs": [
    {
     "data": {
      "text/plain": [
       "<AxesSubplot:xlabel='Sex', ylabel='Rings'>"
      ]
     },
     "execution_count": 12,
     "metadata": {},
     "output_type": "execute_result"
    },
    {
     "data": {
      "image/png": "[encoded data removed]",
      "text/plain": [
       "<Figure size 432x288 with 1 Axes>"
      ]
     },
     "metadata": {
      "needs_background": "light"
     },
     "output_type": "display_data"
    }
   ],
   "source": [
    "sns.barplot(d['Sex'], d['Rings'])"
   ]
  },
  {
   "cell_type": "code",
   "execution_count": 13,
   "metadata": {},
   "outputs": [
    {
     "data": {
      "text/plain": [
       "<AxesSubplot:xlabel='Diameter', ylabel='Rings'>"
      ]
     },
     "execution_count": 13,
     "metadata": {},
     "output_type": "execute_result"
    },
    {
     "data": {
      "image/png": "[encoded data removed]",
      "text/plain": [
       "<Figure size 432x288 with 1 Axes>"
      ]
     },
     "metadata": {
      "needs_background": "light"
     },
     "output_type": "display_data"
    }
   ],
   "source": [
    "sns.barplot(d['Diameter'].head(50),d['Rings'].head(50))"
   ]
  },
  {
   "cell_type": "code",
   "execution_count": 15,
   "metadata": {},
   "outputs": [
    {
     "data": {
      "text/plain": [
       "<AxesSubplot:xlabel='Diameter', ylabel='Rings'>"
      ]
     },
     "execution_count": 15,
     "metadata": {},
     "output_type": "execute_result"
    },
    {
     "data": {
      "image/png": "[encoded data removed]",
      "text/plain": [
       "<Figure size 432x288 with 1 Axes>"
      ]
     },
     "metadata": {
      "needs_background": "light"
     },
     "output_type": "display_data"
    }
   ],
   "source": [
    "sns.lineplot(d['Diameter'].head(),d['Rings'].head())"
   ]
  },
  {
   "cell_type": "markdown",
   "metadata": {},
   "source": [
    "# Multivariate Analysis"
   ]
  },
  {
   "cell_type": "code",
   "execution_count": 16,
   "metadata": {},
   "outputs": [
    {
     "data": {
      "text/plain": [
       "<AxesSubplot:xlabel='Sex', ylabel='Diameter'>"
      ]
     },
     "execution_count": 16,
     "metadata": {},
     "output_type": "execute_result"
    },
    {
     "data": {
      "image/png": "[encoded data removed]",
      "text/plain": [
       "<Figure size 432x288 with 1 Axes>"
      ]
     },
     "metadata": {
      "needs_background": "light"
     },
     "output_type": "display_data"
    }
   ],
   "source": [
    "sns.boxplot(d['Sex'].head(10),d['Diameter'].head(10),d['Rings'].head(10))"
   ]
  },
  {
   "cell_type": "code",
   "execution_count": 18,
   "metadata": {},
   "outputs": [
    {
     "data": {
      "text/plain": [
       "<seaborn.axisgrid.PairGrid at 0x141f2b08>"
      ]
     },
     "execution_count": 18,
     "metadata": {},
     "output_type": "execute_result"
    },
    {
     "data": {
      "image/png": "[encoded data removed]",
      "text/plain": [
       "<Figure size 1308.75x1260 with 56 Axes>"
      ]
     },
     "metadata": {
      "needs_background": "light"
     },
     "output_type": "display_data"
    }
   ],
   "source": [
    "sns.pairplot(d.head(),hue='Rings')"
   ]
  },
  {
   "cell_type": "markdown",
   "metadata": {},
   "source": [
    "# Perform the descriptive stastics on the dataset"
   ]
  },
  {
   "cell_type": "code",
   "execution_count": 30,
   "metadata": {},
   "outputs": [
    {
     "data": {
      "text/html": [
       "<div>\n",
       "<style scoped>\n",
       "    .dataframe tbody tr th:only-of-type {\n",
       "        vertical-align: middle;\n",
       "    }\n",
       "\n",
       "    .dataframe tbody tr th {\n",
       "        vertical-align: top;\n",
       "    }\n",
       "\n",
       "    .dataframe thead th {\n",
       "        text-align: right;\n",
       "    }\n",
       "</style>\n",
       "<table border=\"1\" class=\"dataframe\">\n",
       "  <thead>\n",
       "    <tr style=\"text-align: right;\">\n",
       "      <th></th>\n",
       "      <th>Sex</th>\n",
       "      <th>Length</th>\n",
       "      <th>Diameter</th>\n",
       "      <th>Height</th>\n",
       "      <th>Whole weight</th>\n",
       "      <th>Shucked weight</th>\n",
       "      <th>Viscera weight</th>\n",
       "      <th>Shell weight</th>\n",
       "      <th>Rings</th>\n",
       "    </tr>\n",
       "  </thead>\n",
       "  <tbody>\n",
       "    <tr>\n",
       "      <th>0</th>\n",
       "      <td>M</td>\n",
       "      <td>0.455</td>\n",
       "      <td>0.365</td>\n",
       "      <td>0.095</td>\n",
       "      <td>0.5140</td>\n",
       "      <td>0.2245</td>\n",
       "      <td>0.1010</td>\n",
       "      <td>0.150</td>\n",
       "      <td>15</td>\n",
       "    </tr>\n",
       "    <tr>\n",
       "      <th>1</th>\n",
       "      <td>M</td>\n",
       "      <td>0.350</td>\n",
       "      <td>0.265</td>\n",
       "      <td>0.090</td>\n",
       "      <td>0.2255</td>\n",
       "      <td>0.0995</td>\n",
       "      <td>0.0485</td>\n",
       "      <td>0.070</td>\n",
       "      <td>7</td>\n",
       "    </tr>\n",
       "    <tr>\n",
       "      <th>2</th>\n",
       "      <td>F</td>\n",
       "      <td>0.530</td>\n",
       "      <td>0.420</td>\n",
       "      <td>0.135</td>\n",
       "      <td>0.6770</td>\n",
       "      <td>0.2565</td>\n",
       "      <td>0.1415</td>\n",
       "      <td>0.210</td>\n",
       "      <td>9</td>\n",
       "    </tr>\n",
       "    <tr>\n",
       "      <th>3</th>\n",
       "      <td>M</td>\n",
       "      <td>0.440</td>\n",
       "      <td>0.365</td>\n",
       "      <td>0.125</td>\n",
       "      <td>0.5160</td>\n",
       "      <td>0.2155</td>\n",
       "      <td>0.1140</td>\n",
       "      <td>0.155</td>\n",
       "      <td>10</td>\n",
       "    </tr>\n",
       "    <tr>\n",
       "      <th>4</th>\n",
       "      <td>I</td>\n",
       "      <td>0.330</td>\n",
       "      <td>0.255</td>\n",
       "      <td>0.080</td>\n",
       "      <td>0.2050</td>\n",
       "      <td>0.0895</td>\n",
       "      <td>0.0395</td>\n",
       "      <td>0.055</td>\n",
       "      <td>7</td>\n",
       "    </tr>\n",
       "  </tbody>\n",
       "</table>\n",
       "</div>"
      ],
      "text/plain": [
       "  Sex  Length  Diameter  Height  Whole weight  Shucked weight  Viscera weight  \\\n",
       "0   M   0.455     0.365   0.095        0.5140          0.2245          0.1010   \n",
       "1   M   0.350     0.265   0.090        0.2255          0.0995          0.0485   \n",
       "2   F   0.530     0.420   0.135        0.6770          0.2565          0.1415   \n",
       "3   M   0.440     0.365   0.125        0.5160          0.2155          0.1140   \n",
       "4   I   0.330     0.255   0.080        0.2050          0.0895          0.0395   \n",
       "\n",
       "   Shell weight  Rings  \n",
       "0         0.150     15  \n",
       "1         0.070      7  \n",
       "2         0.210      9  \n",
       "3         0.155     10  \n",
       "4         0.055      7  "
      ]
     },
     "execution_count": 30,
     "metadata": {},
     "output_type": "execute_result"
    }
   ],
   "source": [
    "d.head()"
   ]
  },
  {
   "cell_type": "code",
   "execution_count": 21,
   "metadata": {},
   "outputs": [
    {
     "data": {
      "text/html": [
       "<div>\n",
       "<style scoped>\n",
       "    .dataframe tbody tr th:only-of-type {\n",
       "        vertical-align: middle;\n",
       "    }\n",
       "\n",
       "    .dataframe tbody tr th {\n",
       "        vertical-align: top;\n",
       "    }\n",
       "\n",
       "    .dataframe thead th {\n",
       "        text-align: right;\n",
       "    }\n",
       "</style>\n",
       "<table border=\"1\" class=\"dataframe\">\n",
       "  <thead>\n",
       "    <tr style=\"text-align: right;\">\n",
       "      <th></th>\n",
       "      <th>Sex</th>\n",
       "      <th>Length</th>\n",
       "      <th>Diameter</th>\n",
       "      <th>Height</th>\n",
       "      <th>Whole weight</th>\n",
       "      <th>Shucked weight</th>\n",
       "      <th>Viscera weight</th>\n",
       "      <th>Shell weight</th>\n",
       "      <th>Rings</th>\n",
       "    </tr>\n",
       "  </thead>\n",
       "  <tbody>\n",
       "    <tr>\n",
       "      <th>4172</th>\n",
       "      <td>F</td>\n",
       "      <td>0.565</td>\n",
       "      <td>0.450</td>\n",
       "      <td>0.165</td>\n",
       "      <td>0.8870</td>\n",
       "      <td>0.3700</td>\n",
       "      <td>0.2390</td>\n",
       "      <td>0.2490</td>\n",
       "      <td>11</td>\n",
       "    </tr>\n",
       "    <tr>\n",
       "      <th>4173</th>\n",
       "      <td>M</td>\n",
       "      <td>0.590</td>\n",
       "      <td>0.440</td>\n",
       "      <td>0.135</td>\n",
       "      <td>0.9660</td>\n",
       "      <td>0.4390</td>\n",
       "      <td>0.2145</td>\n",
       "      <td>0.2605</td>\n",
       "      <td>10</td>\n",
       "    </tr>\n",
       "    <tr>\n",
       "      <th>4174</th>\n",
       "      <td>M</td>\n",
       "      <td>0.600</td>\n",
       "      <td>0.475</td>\n",
       "      <td>0.205</td>\n",
       "      <td>1.1760</td>\n",
       "      <td>0.5255</td>\n",
       "      <td>0.2875</td>\n",
       "      <td>0.3080</td>\n",
       "      <td>9</td>\n",
       "    </tr>\n",
       "    <tr>\n",
       "      <th>4175</th>\n",
       "      <td>F</td>\n",
       "      <td>0.625</td>\n",
       "      <td>0.485</td>\n",
       "      <td>0.150</td>\n",
       "      <td>1.0945</td>\n",
       "      <td>0.5310</td>\n",
       "      <td>0.2610</td>\n",
       "      <td>0.2960</td>\n",
       "      <td>10</td>\n",
       "    </tr>\n",
       "    <tr>\n",
       "      <th>4176</th>\n",
       "      <td>M</td>\n",
       "      <td>0.710</td>\n",
       "      <td>0.555</td>\n",
       "      <td>0.195</td>\n",
       "      <td>1.9485</td>\n",
       "      <td>0.9455</td>\n",
       "      <td>0.3765</td>\n",
       "      <td>0.4950</td>\n",
       "      <td>12</td>\n",
       "    </tr>\n",
       "  </tbody>\n",
       "</table>\n",
       "</div>"
      ],
      "text/plain": [
       "     Sex  Length  Diameter  Height  Whole weight  Shucked weight  \\\n",
       "4172   F   0.565     0.450   0.165        0.8870          0.3700   \n",
       "4173   M   0.590     0.440   0.135        0.9660          0.4390   \n",
       "4174   M   0.600     0.475   0.205        1.1760          0.5255   \n",
       "4175   F   0.625     0.485   0.150        1.0945          0.5310   \n",
       "4176   M   0.710     0.555   0.195        1.9485          0.9455   \n",
       "\n",
       "      Viscera weight  Shell weight  Rings  \n",
       "4172          0.2390        0.2490     11  \n",
       "4173          0.2145        0.2605     10  \n",
       "4174          0.2875        0.3080      9  \n",
       "4175          0.2610        0.2960     10  \n",
       "4176          0.3765        0.4950     12  "
      ]
     },
     "execution_count": 21,
     "metadata": {},
     "output_type": "execute_result"
    }
   ],
   "source": [
    "d.tail()"
   ]
  },
  {
   "cell_type": "code",
   "execution_count": 22,
   "metadata": {},
   "outputs": [
    {
     "name": "stdout",
     "output_type": "stream",
     "text": [
      "<class 'pandas.core.frame.DataFrame'>\n",
      "RangeIndex: 4177 entries, 0 to 4176\n",
      "Data columns (total 9 columns):\n",
      " #   Column          Non-Null Count  Dtype  \n",
      "---  ------          --------------  -----  \n",
      " 0   Sex             4177 non-null   object \n",
      " 1   Length          4177 non-null   float64\n",
      " 2   Diameter        4177 non-null   float64\n",
      " 3   Height          4177 non-null   float64\n",
      " 4   Whole weight    4177 non-null   float64\n",
      " 5   Shucked weight  4177 non-null   float64\n",
      " 6   Viscera weight  4177 non-null   float64\n",
      " 7   Shell weight    4177 non-null   float64\n",
      " 8   Rings           4177 non-null   int64  \n",
      "dtypes: float64(7), int64(1), object(1)\n",
      "memory usage: 277.4+ KB\n"
     ]
    }
   ],
   "source": [
    "d.info()"
   ]
  },
  {
   "cell_type": "code",
   "execution_count": 24,
   "metadata": {},
   "outputs": [
    {
     "data": {
      "text/html": [
       "<div>\n",
       "<style scoped>\n",
       "    .dataframe tbody tr th:only-of-type {\n",
       "        vertical-align: middle;\n",
       "    }\n",
       "\n",
       "    .dataframe tbody tr th {\n",
       "        vertical-align: top;\n",
       "    }\n",
       "\n",
       "    .dataframe thead th {\n",
       "        text-align: right;\n",
       "    }\n",
       "</style>\n",
       "<table border=\"1\" class=\"dataframe\">\n",
       "  <thead>\n",
       "    <tr style=\"text-align: right;\">\n",
       "      <th></th>\n",
       "      <th>0</th>\n",
       "      <th>1</th>\n",
       "    </tr>\n",
       "  </thead>\n",
       "  <tbody>\n",
       "    <tr>\n",
       "      <th>Sex</th>\n",
       "      <td>M</td>\n",
       "      <td>NaN</td>\n",
       "    </tr>\n",
       "    <tr>\n",
       "      <th>Length</th>\n",
       "      <td>0.55</td>\n",
       "      <td>0.625</td>\n",
       "    </tr>\n",
       "    <tr>\n",
       "      <th>Diameter</th>\n",
       "      <td>0.45</td>\n",
       "      <td>NaN</td>\n",
       "    </tr>\n",
       "    <tr>\n",
       "      <th>Height</th>\n",
       "      <td>0.15</td>\n",
       "      <td>NaN</td>\n",
       "    </tr>\n",
       "    <tr>\n",
       "      <th>Whole weight</th>\n",
       "      <td>0.2225</td>\n",
       "      <td>NaN</td>\n",
       "    </tr>\n",
       "    <tr>\n",
       "      <th>Shucked weight</th>\n",
       "      <td>0.175</td>\n",
       "      <td>NaN</td>\n",
       "    </tr>\n",
       "    <tr>\n",
       "      <th>Viscera weight</th>\n",
       "      <td>0.1715</td>\n",
       "      <td>NaN</td>\n",
       "    </tr>\n",
       "    <tr>\n",
       "      <th>Shell weight</th>\n",
       "      <td>0.275</td>\n",
       "      <td>NaN</td>\n",
       "    </tr>\n",
       "    <tr>\n",
       "      <th>Rings</th>\n",
       "      <td>9</td>\n",
       "      <td>NaN</td>\n",
       "    </tr>\n",
       "  </tbody>\n",
       "</table>\n",
       "</div>"
      ],
      "text/plain": [
       "                     0      1\n",
       "Sex                  M    NaN\n",
       "Length            0.55  0.625\n",
       "Diameter          0.45    NaN\n",
       "Height            0.15    NaN\n",
       "Whole weight    0.2225    NaN\n",
       "Shucked weight   0.175    NaN\n",
       "Viscera weight  0.1715    NaN\n",
       "Shell weight     0.275    NaN\n",
       "Rings                9    NaN"
      ]
     },
     "execution_count": 24,
     "metadata": {},
     "output_type": "execute_result"
    }
   ],
   "source": [
    "d.mode().T"
   ]
  },
  {
   "cell_type": "code",
   "execution_count": 25,
   "metadata": {},
   "outputs": [
    {
     "data": {
      "text/plain": [
       "(4177, 9)"
      ]
     },
     "execution_count": 25,
     "metadata": {},
     "output_type": "execute_result"
    }
   ],
   "source": [
    "d.shape"
   ]
  },
  {
   "cell_type": "code",
   "execution_count": 27,
   "metadata": {},
   "outputs": [
    {
     "data": {
      "text/plain": [
       "Length           -0.639873\n",
       "Diameter         -0.609198\n",
       "Height            3.128817\n",
       "Whole weight      0.530959\n",
       "Shucked weight    0.719098\n",
       "Viscera weight    0.591852\n",
       "Shell weight      0.620927\n",
       "Rings             1.114102\n",
       "dtype: float64"
      ]
     },
     "execution_count": 27,
     "metadata": {},
     "output_type": "execute_result"
    }
   ],
   "source": [
    "d.skew()"
   ]
  },
  {
   "cell_type": "code",
   "execution_count": 29,
   "metadata": {},
   "outputs": [
    {
     "data": {
      "text/plain": [
       "Sex                  3\n",
       "Length             134\n",
       "Diameter           111\n",
       "Height              51\n",
       "Whole weight      2429\n",
       "Shucked weight    1515\n",
       "Viscera weight     880\n",
       "Shell weight       926\n",
       "Rings               28\n",
       "dtype: int64"
      ]
     },
     "execution_count": 29,
     "metadata": {},
     "output_type": "execute_result"
    }
   ],
   "source": [
    "d.nunique()"
   ]
  },
  {
   "cell_type": "markdown",
   "metadata": {},
   "source": [
    "# Check for Missing values and deal with them"
   ]
  },
  {
   "cell_type": "code",
   "execution_count": 31,
   "metadata": {},
   "outputs": [
    {
     "data": {
      "text/html": [
       "<div>\n",
       "<style scoped>\n",
       "    .dataframe tbody tr th:only-of-type {\n",
       "        vertical-align: middle;\n",
       "    }\n",
       "\n",
       "    .dataframe tbody tr th {\n",
       "        vertical-align: top;\n",
       "    }\n",
       "\n",
       "    .dataframe thead th {\n",
       "        text-align: right;\n",
       "    }\n",
       "</style>\n",
       "<table border=\"1\" class=\"dataframe\">\n",
       "  <thead>\n",
       "    <tr style=\"text-align: right;\">\n",
       "      <th></th>\n",
       "      <th>Sex</th>\n",
       "      <th>Length</th>\n",
       "      <th>Diameter</th>\n",
       "      <th>Height</th>\n",
       "      <th>Whole weight</th>\n",
       "      <th>Shucked weight</th>\n",
       "      <th>Viscera weight</th>\n",
       "      <th>Shell weight</th>\n",
       "      <th>Rings</th>\n",
       "    </tr>\n",
       "  </thead>\n",
       "  <tbody>\n",
       "    <tr>\n",
       "      <th>0</th>\n",
       "      <td>False</td>\n",
       "      <td>False</td>\n",
       "      <td>False</td>\n",
       "      <td>False</td>\n",
       "      <td>False</td>\n",
       "      <td>False</td>\n",
       "      <td>False</td>\n",
       "      <td>False</td>\n",
       "      <td>False</td>\n",
       "    </tr>\n",
       "    <tr>\n",
       "      <th>1</th>\n",
       "      <td>False</td>\n",
       "      <td>False</td>\n",
       "      <td>False</td>\n",
       "      <td>False</td>\n",
       "      <td>False</td>\n",
       "      <td>False</td>\n",
       "      <td>False</td>\n",
       "      <td>False</td>\n",
       "      <td>False</td>\n",
       "    </tr>\n",
       "    <tr>\n",
       "      <th>2</th>\n",
       "      <td>False</td>\n",
       "      <td>False</td>\n",
       "      <td>False</td>\n",
       "      <td>False</td>\n",
       "      <td>False</td>\n",
       "      <td>False</td>\n",
       "      <td>False</td>\n",
       "      <td>False</td>\n",
       "      <td>False</td>\n",
       "    </tr>\n",
       "    <tr>\n",
       "      <th>3</th>\n",
       "      <td>False</td>\n",
       "      <td>False</td>\n",
       "      <td>False</td>\n",
       "      <td>False</td>\n",
       "      <td>False</td>\n",
       "      <td>False</td>\n",
       "      <td>False</td>\n",
       "      <td>False</td>\n",
       "      <td>False</td>\n",
       "    </tr>\n",
       "    <tr>\n",
       "      <th>4</th>\n",
       "      <td>False</td>\n",
       "      <td>False</td>\n",
       "      <td>False</td>\n",
       "      <td>False</td>\n",
       "      <td>False</td>\n",
       "      <td>False</td>\n",
       "      <td>False</td>\n",
       "      <td>False</td>\n",
       "      <td>False</td>\n",
       "    </tr>\n",
       "    <tr>\n",
       "      <th>...</th>\n",
       "      <td>...</td>\n",
       "      <td>...</td>\n",
       "      <td>...</td>\n",
       "      <td>...</td>\n",
       "      <td>...</td>\n",
       "      <td>...</td>\n",
       "      <td>...</td>\n",
       "      <td>...</td>\n",
       "      <td>...</td>\n",
       "    </tr>\n",
       "    <tr>\n",
       "      <th>4172</th>\n",
       "      <td>False</td>\n",
       "      <td>False</td>\n",
       "      <td>False</td>\n",
       "      <td>False</td>\n",
       "      <td>False</td>\n",
       "      <td>False</td>\n",
       "      <td>False</td>\n",
       "      <td>False</td>\n",
       "      <td>False</td>\n",
       "    </tr>\n",
       "    <tr>\n",
       "      <th>4173</th>\n",
       "      <td>False</td>\n",
       "      <td>False</td>\n",
       "      <td>False</td>\n",
       "      <td>False</td>\n",
       "      <td>False</td>\n",
       "      <td>False</td>\n",
       "      <td>False</td>\n",
       "      <td>False</td>\n",
       "      <td>False</td>\n",
       "    </tr>\n",
       "    <tr>\n",
       "      <th>4174</th>\n",
       "      <td>False</td>\n",
       "      <td>False</td>\n",
       "      <td>False</td>\n",
       "      <td>False</td>\n",
       "      <td>False</td>\n",
       "      <td>False</td>\n",
       "      <td>False</td>\n",
       "      <td>False</td>\n",
       "      <td>False</td>\n",
       "    </tr>\n",
       "    <tr>\n",
       "      <th>4175</th>\n",
       "      <td>False</td>\n",
       "      <td>False</td>\n",
       "      <td>False</td>\n",
       "      <td>False</td>\n",
       "      <td>False</td>\n",
       "      <td>False</td>\n",
       "      <td>False</td>\n",
       "      <td>False</td>\n",
       "      <td>False</td>\n",
       "    </tr>\n",
       "    <tr>\n",
       "      <th>4176</th>\n",
       "      <td>False</td>\n",
       "      <td>False</td>\n",
       "      <td>False</td>\n",
       "      <td>False</td>\n",
       "      <td>False</td>\n",
       "      <td>False</td>\n",
       "      <td>False</td>\n",
       "      <td>False</td>\n",
       "      <td>False</td>\n",
       "    </tr>\n",
       "  </tbody>\n",
       "</table>\n",
       "<p>4177 rows × 9 columns</p>\n",
       "</div>"
      ],
      "text/plain": [
       "        Sex  Length  Diameter  Height  Whole weight  Shucked weight  \\\n",
       "0     False   False     False   False         False           False   \n",
       "1     False   False     False   False         False           False   \n",
       "2     False   False     False   False         False           False   \n",
       "3     False   False     False   False         False           False   \n",
       "4     False   False     False   False         False           False   \n",
       "...     ...     ...       ...     ...           ...             ...   \n",
       "4172  False   False     False   False         False           False   \n",
       "4173  False   False     False   False         False           False   \n",
       "4174  False   False     False   False         False           False   \n",
       "4175  False   False     False   False         False           False   \n",
       "4176  False   False     False   False         False           False   \n",
       "\n",
       "      Viscera weight  Shell weight  Rings  \n",
       "0              False         False  False  \n",
       "1              False         False  False  \n",
       "2              False         False  False  \n",
       "3              False         False  False  \n",
       "4              False         False  False  \n",
       "...              ...           ...    ...  \n",
       "4172           False         False  False  \n",
       "4173           False         False  False  \n",
       "4174           False         False  False  \n",
       "4175           False         False  False  \n",
       "4176           False         False  False  \n",
       "\n",
       "[4177 rows x 9 columns]"
      ]
     },
     "execution_count": 31,
     "metadata": {},
     "output_type": "execute_result"
    }
   ],
   "source": [
    "d.isna()"
   ]
  },
  {
   "cell_type": "code",
   "execution_count": 32,
   "metadata": {},
   "outputs": [
    {
     "data": {
      "text/plain": [
       "Sex               False\n",
       "Length            False\n",
       "Diameter          False\n",
       "Height            False\n",
       "Whole weight      False\n",
       "Shucked weight    False\n",
       "Viscera weight    False\n",
       "Shell weight      False\n",
       "Rings             False\n",
       "dtype: bool"
      ]
     },
     "execution_count": 32,
     "metadata": {},
     "output_type": "execute_result"
    }
   ],
   "source": [
    "d.isna().any()"
   ]
  },
  {
   "cell_type": "code",
   "execution_count": 33,
   "metadata": {},
   "outputs": [
    {
     "data": {
      "text/plain": [
       "Sex               0\n",
       "Length            0\n",
       "Diameter          0\n",
       "Height            0\n",
       "Whole weight      0\n",
       "Shucked weight    0\n",
       "Viscera weight    0\n",
       "Shell weight      0\n",
       "Rings             0\n",
       "dtype: int64"
      ]
     },
     "execution_count": 33,
     "metadata": {},
     "output_type": "execute_result"
    }
   ],
   "source": [
    "d.isna().sum()"
   ]
  },
  {
   "cell_type": "code",
   "execution_count": 34,
   "metadata": {},
   "outputs": [
    {
     "data": {
      "text/plain": [
       "0"
      ]
     },
     "execution_count": 34,
     "metadata": {},
     "output_type": "execute_result"
    }
   ],
   "source": [
    "d.isna().any().sum()"
   ]
  },
  {
   "cell_type": "markdown",
   "metadata": {},
   "source": [
    "# Find the outliers and Replace the Outlier"
   ]
  },
  {
   "cell_type": "code",
   "execution_count": 35,
   "metadata": {},
   "outputs": [
    {
     "data": {
      "text/plain": [
       "<AxesSubplot:xlabel='Diameter'>"
      ]
     },
     "execution_count": 35,
     "metadata": {},
     "output_type": "execute_result"
    },
    {
     "data": {
      "image/png": "[encoded data removed]",
      "text/plain": [
       "<Figure size 432x288 with 1 Axes>"
      ]
     },
     "metadata": {
      "needs_background": "light"
     },
     "output_type": "display_data"
    }
   ],
   "source": [
    "sns.boxplot(d['Diameter'])"
   ]
  },
  {
   "cell_type": "code",
   "execution_count": 36,
   "metadata": {},
   "outputs": [
    {
     "data": {
      "text/html": [
       "<div>\n",
       "<style scoped>\n",
       "    .dataframe tbody tr th:only-of-type {\n",
       "        vertical-align: middle;\n",
       "    }\n",
       "\n",
       "    .dataframe tbody tr th {\n",
       "        vertical-align: top;\n",
       "    }\n",
       "\n",
       "    .dataframe thead th {\n",
       "        text-align: right;\n",
       "    }\n",
       "</style>\n",
       "<table border=\"1\" class=\"dataframe\">\n",
       "  <thead>\n",
       "    <tr style=\"text-align: right;\">\n",
       "      <th></th>\n",
       "      <th>Length</th>\n",
       "      <th>Diameter</th>\n",
       "      <th>Height</th>\n",
       "      <th>Whole weight</th>\n",
       "      <th>Shucked weight</th>\n",
       "      <th>Viscera weight</th>\n",
       "      <th>Shell weight</th>\n",
       "      <th>Rings</th>\n",
       "    </tr>\n",
       "  </thead>\n",
       "  <tbody>\n",
       "    <tr>\n",
       "      <th>0.25</th>\n",
       "      <td>0.450</td>\n",
       "      <td>0.35</td>\n",
       "      <td>0.115</td>\n",
       "      <td>0.4415</td>\n",
       "      <td>0.186</td>\n",
       "      <td>0.0935</td>\n",
       "      <td>0.130</td>\n",
       "      <td>8.0</td>\n",
       "    </tr>\n",
       "    <tr>\n",
       "      <th>0.75</th>\n",
       "      <td>0.615</td>\n",
       "      <td>0.48</td>\n",
       "      <td>0.165</td>\n",
       "      <td>1.1530</td>\n",
       "      <td>0.502</td>\n",
       "      <td>0.2530</td>\n",
       "      <td>0.329</td>\n",
       "      <td>11.0</td>\n",
       "    </tr>\n",
       "  </tbody>\n",
       "</table>\n",
       "</div>"
      ],
      "text/plain": [
       "      Length  Diameter  Height  Whole weight  Shucked weight  Viscera weight  \\\n",
       "0.25   0.450      0.35   0.115        0.4415           0.186          0.0935   \n",
       "0.75   0.615      0.48   0.165        1.1530           0.502          0.2530   \n",
       "\n",
       "      Shell weight  Rings  \n",
       "0.25         0.130    8.0  \n",
       "0.75         0.329   11.0  "
      ]
     },
     "execution_count": 36,
     "metadata": {},
     "output_type": "execute_result"
    }
   ],
   "source": [
    "qnt=d.quantile(q=[0.25,0.75])\n",
    "qnt"
   ]
  },
  {
   "cell_type": "code",
   "execution_count": 37,
   "metadata": {},
   "outputs": [
    {
     "data": {
      "text/plain": [
       "Length            0.1650\n",
       "Diameter          0.1300\n",
       "Height            0.0500\n",
       "Whole weight      0.7115\n",
       "Shucked weight    0.3160\n",
       "Viscera weight    0.1595\n",
       "Shell weight      0.1990\n",
       "Rings             3.0000\n",
       "dtype: float64"
      ]
     },
     "execution_count": 37,
     "metadata": {},
     "output_type": "execute_result"
    }
   ],
   "source": [
    "iqr=qnt.loc[0.75]-qnt.loc[0.25]\n",
    "iqr"
   ]
  },
  {
   "cell_type": "code",
   "execution_count": 38,
   "metadata": {},
   "outputs": [
    {
     "data": {
      "text/plain": [
       "Length            0.20250\n",
       "Diameter          0.15500\n",
       "Height            0.04000\n",
       "Whole weight     -0.62575\n",
       "Shucked weight   -0.28800\n",
       "Viscera weight   -0.14575\n",
       "Shell weight     -0.16850\n",
       "Rings             3.50000\n",
       "dtype: float64"
      ]
     },
     "execution_count": 38,
     "metadata": {},
     "output_type": "execute_result"
    }
   ],
   "source": [
    "lower=qnt.loc[0.25]-(1.5*iqr)\n",
    "lower"
   ]
  },
  {
   "cell_type": "code",
   "execution_count": 40,
   "metadata": {},
   "outputs": [
    {
     "data": {
      "text/plain": [
       "<AxesSubplot:xlabel='Diameter'>"
      ]
     },
     "execution_count": 40,
     "metadata": {},
     "output_type": "execute_result"
    },
    {
     "data": {
      "image/png": "[encoded data removed]",
      "text/plain": [
       "<Figure size 432x288 with 1 Axes>"
      ]
     },
     "metadata": {
      "needs_background": "light"
     },
     "output_type": "display_data"
    }
   ],
   "source": [
    "d['Diameter']=np.where(d['Diameter']<0.155,0.4078,d['Diameter'])\n",
    "sns.boxplot(d['Diameter'])"
   ]
  },
  {
   "cell_type": "code",
   "execution_count": 41,
   "metadata": {},
   "outputs": [
    {
     "data": {
      "text/plain": [
       "<AxesSubplot:xlabel='Length'>"
      ]
     },
     "execution_count": 41,
     "metadata": {},
     "output_type": "execute_result"
    },
    {
     "data": {
      "image/png": "[encoded data removed]",
      "text/plain": [
       "<Figure size 432x288 with 1 Axes>"
      ]
     },
     "metadata": {
      "needs_background": "light"
     },
     "output_type": "display_data"
    }
   ],
   "source": [
    "sns.boxplot(d['Length'])"
   ]
  },
  {
   "cell_type": "code",
   "execution_count": 42,
   "metadata": {},
   "outputs": [],
   "source": [
    "d['Length']=np.where(d['Length']<0.23,0.52, d['Length'])"
   ]
  },
  {
   "cell_type": "code",
   "execution_count": 43,
   "metadata": {},
   "outputs": [
    {
     "data": {
      "text/plain": [
       "<AxesSubplot:xlabel='Length'>"
      ]
     },
     "execution_count": 43,
     "metadata": {},
     "output_type": "execute_result"
    },
    {
     "data": {
      "image/png": "[encoded data removed]",
      "text/plain": [
       "<Figure size 432x288 with 1 Axes>"
      ]
     },
     "metadata": {
      "needs_background": "light"
     },
     "output_type": "display_data"
    }
   ],
   "source": [
    "sns.boxplot(d['Length'])"
   ]
  },
  {
   "cell_type": "code",
   "execution_count": 44,
   "metadata": {},
   "outputs": [
    {
     "data": {
      "text/plain": [
       "<AxesSubplot:xlabel='Height'>"
      ]
     },
     "execution_count": 44,
     "metadata": {},
     "output_type": "execute_result"
    },
    {
     "data": {
      "image/png": "[encoded data removed]",
      "text/plain": [
       "<Figure size 432x288 with 1 Axes>"
      ]
     },
     "metadata": {
      "needs_background": "light"
     },
     "output_type": "display_data"
    }
   ],
   "source": [
    "sns.boxplot(d['Height'])"
   ]
  },
  {
   "cell_type": "code",
   "execution_count": 45,
   "metadata": {},
   "outputs": [],
   "source": [
    "d['Height']=np.where(d['Height']<0.04,0.139, d['Height'])\n",
    "d['Height']=np.where(d['Height']>0.23,0.139, d['Height'])"
   ]
  },
  {
   "cell_type": "code",
   "execution_count": 46,
   "metadata": {},
   "outputs": [
    {
     "data": {
      "text/plain": [
       "<AxesSubplot:xlabel='Height'>"
      ]
     },
     "execution_count": 46,
     "metadata": {},
     "output_type": "execute_result"
    },
    {
     "data": {
      "image/png": "[encoded data removed]",
      "text/plain": [
       "<Figure size 432x288 with 1 Axes>"
      ]
     },
     "metadata": {
      "needs_background": "light"
     },
     "output_type": "display_data"
    }
   ],
   "source": [
    "sns.boxplot(d['Height'])"
   ]
  },
  {
   "cell_type": "code",
   "execution_count": 47,
   "metadata": {},
   "outputs": [
    {
     "data": {
      "text/plain": [
       "<AxesSubplot:xlabel='Whole weight'>"
      ]
     },
     "execution_count": 47,
     "metadata": {},
     "output_type": "execute_result"
    },
    {
     "data": {
      "image/png": "[encoded data removed]",
      "text/plain": [
       "<Figure size 432x288 with 1 Axes>"
      ]
     },
     "metadata": {
      "needs_background": "light"
     },
     "output_type": "display_data"
    }
   ],
   "source": [
    "sns.boxplot(d['Whole weight'])"
   ]
  },
  {
   "cell_type": "code",
   "execution_count": 48,
   "metadata": {},
   "outputs": [],
   "source": [
    "d['Whole weight']=np.where(d['Whole weight']>0.9,0.82, d['Whole weight'])"
   ]
  },
  {
   "cell_type": "code",
   "execution_count": 50,
   "metadata": {},
   "outputs": [
    {
     "data": {
      "text/plain": [
       "<AxesSubplot:xlabel='Shucked weight'>"
      ]
     },
     "execution_count": 50,
     "metadata": {},
     "output_type": "execute_result"
    },
    {
     "data": {
      "image/png": "[encoded data removed]",
      "text/plain": [
       "<Figure size 432x288 with 1 Axes>"
      ]
     },
     "metadata": {
      "needs_background": "light"
     },
     "output_type": "display_data"
    }
   ],
   "source": [
    "sns.boxplot(d['Shucked weight'])"
   ]
  },
  {
   "cell_type": "code",
   "execution_count": 51,
   "metadata": {},
   "outputs": [],
   "source": [
    "d['Shell weight']=np.where(d['Shell weight']>0.61,0.2388, d['Shell weight'])"
   ]
  },
  {
   "cell_type": "code",
   "execution_count": 52,
   "metadata": {},
   "outputs": [
    {
     "data": {
      "text/plain": [
       "<AxesSubplot:xlabel='Shell weight'>"
      ]
     },
     "execution_count": 52,
     "metadata": {},
     "output_type": "execute_result"
    },
    {
     "data": {
      "image/png": "[encoded data removed]",
      "text/plain": [
       "<Figure size 432x288 with 1 Axes>"
      ]
     },
     "metadata": {
      "needs_background": "light"
     },
     "output_type": "display_data"
    }
   ],
   "source": [
    "sns.boxplot(d['Shell weight'])"
   ]
  },
  {
   "cell_type": "markdown",
   "metadata": {},
   "source": [
    "# Check for Categorical column and perform encoding"
   ]
  },
  {
   "cell_type": "code",
   "execution_count": 53,
   "metadata": {},
   "outputs": [
    {
     "data": {
      "text/html": [
       "<div>\n",
       "<style scoped>\n",
       "    .dataframe tbody tr th:only-of-type {\n",
       "        vertical-align: middle;\n",
       "    }\n",
       "\n",
       "    .dataframe tbody tr th {\n",
       "        vertical-align: top;\n",
       "    }\n",
       "\n",
       "    .dataframe thead th {\n",
       "        text-align: right;\n",
       "    }\n",
       "</style>\n",
       "<table border=\"1\" class=\"dataframe\">\n",
       "  <thead>\n",
       "    <tr style=\"text-align: right;\">\n",
       "      <th></th>\n",
       "      <th>Sex</th>\n",
       "      <th>Length</th>\n",
       "      <th>Diameter</th>\n",
       "      <th>Height</th>\n",
       "      <th>Whole weight</th>\n",
       "      <th>Shucked weight</th>\n",
       "      <th>Viscera weight</th>\n",
       "      <th>Shell weight</th>\n",
       "      <th>Rings</th>\n",
       "    </tr>\n",
       "  </thead>\n",
       "  <tbody>\n",
       "    <tr>\n",
       "      <th>0</th>\n",
       "      <td>1</td>\n",
       "      <td>0.455</td>\n",
       "      <td>0.365</td>\n",
       "      <td>0.095</td>\n",
       "      <td>0.5140</td>\n",
       "      <td>0.2245</td>\n",
       "      <td>0.1010</td>\n",
       "      <td>0.1500</td>\n",
       "      <td>15</td>\n",
       "    </tr>\n",
       "    <tr>\n",
       "      <th>1</th>\n",
       "      <td>1</td>\n",
       "      <td>0.350</td>\n",
       "      <td>0.265</td>\n",
       "      <td>0.090</td>\n",
       "      <td>0.2255</td>\n",
       "      <td>0.0995</td>\n",
       "      <td>0.0485</td>\n",
       "      <td>0.0700</td>\n",
       "      <td>7</td>\n",
       "    </tr>\n",
       "    <tr>\n",
       "      <th>2</th>\n",
       "      <td>0</td>\n",
       "      <td>0.530</td>\n",
       "      <td>0.420</td>\n",
       "      <td>0.135</td>\n",
       "      <td>0.6770</td>\n",
       "      <td>0.2565</td>\n",
       "      <td>0.1415</td>\n",
       "      <td>0.2100</td>\n",
       "      <td>9</td>\n",
       "    </tr>\n",
       "    <tr>\n",
       "      <th>3</th>\n",
       "      <td>1</td>\n",
       "      <td>0.440</td>\n",
       "      <td>0.365</td>\n",
       "      <td>0.125</td>\n",
       "      <td>0.5160</td>\n",
       "      <td>0.2155</td>\n",
       "      <td>0.1140</td>\n",
       "      <td>0.1550</td>\n",
       "      <td>10</td>\n",
       "    </tr>\n",
       "    <tr>\n",
       "      <th>4</th>\n",
       "      <td>2</td>\n",
       "      <td>0.330</td>\n",
       "      <td>0.255</td>\n",
       "      <td>0.080</td>\n",
       "      <td>0.2050</td>\n",
       "      <td>0.0895</td>\n",
       "      <td>0.0395</td>\n",
       "      <td>0.0550</td>\n",
       "      <td>7</td>\n",
       "    </tr>\n",
       "    <tr>\n",
       "      <th>...</th>\n",
       "      <td>...</td>\n",
       "      <td>...</td>\n",
       "      <td>...</td>\n",
       "      <td>...</td>\n",
       "      <td>...</td>\n",
       "      <td>...</td>\n",
       "      <td>...</td>\n",
       "      <td>...</td>\n",
       "      <td>...</td>\n",
       "    </tr>\n",
       "    <tr>\n",
       "      <th>4172</th>\n",
       "      <td>0</td>\n",
       "      <td>0.565</td>\n",
       "      <td>0.450</td>\n",
       "      <td>0.165</td>\n",
       "      <td>0.8870</td>\n",
       "      <td>0.3700</td>\n",
       "      <td>0.2390</td>\n",
       "      <td>0.2490</td>\n",
       "      <td>11</td>\n",
       "    </tr>\n",
       "    <tr>\n",
       "      <th>4173</th>\n",
       "      <td>1</td>\n",
       "      <td>0.590</td>\n",
       "      <td>0.440</td>\n",
       "      <td>0.135</td>\n",
       "      <td>0.8200</td>\n",
       "      <td>0.4390</td>\n",
       "      <td>0.2145</td>\n",
       "      <td>0.2605</td>\n",
       "      <td>10</td>\n",
       "    </tr>\n",
       "    <tr>\n",
       "      <th>4174</th>\n",
       "      <td>1</td>\n",
       "      <td>0.600</td>\n",
       "      <td>0.475</td>\n",
       "      <td>0.205</td>\n",
       "      <td>0.8200</td>\n",
       "      <td>0.5255</td>\n",
       "      <td>0.2875</td>\n",
       "      <td>0.3080</td>\n",
       "      <td>9</td>\n",
       "    </tr>\n",
       "    <tr>\n",
       "      <th>4175</th>\n",
       "      <td>0</td>\n",
       "      <td>0.625</td>\n",
       "      <td>0.485</td>\n",
       "      <td>0.150</td>\n",
       "      <td>0.8200</td>\n",
       "      <td>0.5310</td>\n",
       "      <td>0.2610</td>\n",
       "      <td>0.2960</td>\n",
       "      <td>10</td>\n",
       "    </tr>\n",
       "    <tr>\n",
       "      <th>4176</th>\n",
       "      <td>1</td>\n",
       "      <td>0.710</td>\n",
       "      <td>0.555</td>\n",
       "      <td>0.195</td>\n",
       "      <td>0.8200</td>\n",
       "      <td>0.9455</td>\n",
       "      <td>0.3765</td>\n",
       "      <td>0.4950</td>\n",
       "      <td>12</td>\n",
       "    </tr>\n",
       "  </tbody>\n",
       "</table>\n",
       "<p>4177 rows × 9 columns</p>\n",
       "</div>"
      ],
      "text/plain": [
       "      Sex  Length  Diameter  Height  Whole weight  Shucked weight  \\\n",
       "0       1   0.455     0.365   0.095        0.5140          0.2245   \n",
       "1       1   0.350     0.265   0.090        0.2255          0.0995   \n",
       "2       0   0.530     0.420   0.135        0.6770          0.2565   \n",
       "3       1   0.440     0.365   0.125        0.5160          0.2155   \n",
       "4       2   0.330     0.255   0.080        0.2050          0.0895   \n",
       "...   ...     ...       ...     ...           ...             ...   \n",
       "4172    0   0.565     0.450   0.165        0.8870          0.3700   \n",
       "4173    1   0.590     0.440   0.135        0.8200          0.4390   \n",
       "4174    1   0.600     0.475   0.205        0.8200          0.5255   \n",
       "4175    0   0.625     0.485   0.150        0.8200          0.5310   \n",
       "4176    1   0.710     0.555   0.195        0.8200          0.9455   \n",
       "\n",
       "      Viscera weight  Shell weight  Rings  \n",
       "0             0.1010        0.1500     15  \n",
       "1             0.0485        0.0700      7  \n",
       "2             0.1415        0.2100      9  \n",
       "3             0.1140        0.1550     10  \n",
       "4             0.0395        0.0550      7  \n",
       "...              ...           ...    ...  \n",
       "4172          0.2390        0.2490     11  \n",
       "4173          0.2145        0.2605     10  \n",
       "4174          0.2875        0.3080      9  \n",
       "4175          0.2610        0.2960     10  \n",
       "4176          0.3765        0.4950     12  \n",
       "\n",
       "[4177 rows x 9 columns]"
      ]
     },
     "execution_count": 53,
     "metadata": {},
     "output_type": "execute_result"
    }
   ],
   "source": [
    "d['Sex'].replace({'M':1,'F':0,'I':2},inplace=True)\n",
    "d"
   ]
  },
  {
   "cell_type": "markdown",
   "metadata": {},
   "source": [
    "# Split the data into dependent and independent variables"
   ]
  },
  {
   "cell_type": "code",
   "execution_count": 54,
   "metadata": {},
   "outputs": [
    {
     "data": {
      "text/html": [
       "<div>\n",
       "<style scoped>\n",
       "    .dataframe tbody tr th:only-of-type {\n",
       "        vertical-align: middle;\n",
       "    }\n",
       "\n",
       "    .dataframe tbody tr th {\n",
       "        vertical-align: top;\n",
       "    }\n",
       "\n",
       "    .dataframe thead th {\n",
       "        text-align: right;\n",
       "    }\n",
       "</style>\n",
       "<table border=\"1\" class=\"dataframe\">\n",
       "  <thead>\n",
       "    <tr style=\"text-align: right;\">\n",
       "      <th></th>\n",
       "      <th>Sex</th>\n",
       "      <th>Length</th>\n",
       "      <th>Diameter</th>\n",
       "      <th>Height</th>\n",
       "      <th>Whole weight</th>\n",
       "      <th>Shucked weight</th>\n",
       "      <th>Viscera weight</th>\n",
       "      <th>Shell weight</th>\n",
       "    </tr>\n",
       "  </thead>\n",
       "  <tbody>\n",
       "    <tr>\n",
       "      <th>0</th>\n",
       "      <td>1</td>\n",
       "      <td>0.455</td>\n",
       "      <td>0.365</td>\n",
       "      <td>0.095</td>\n",
       "      <td>0.5140</td>\n",
       "      <td>0.2245</td>\n",
       "      <td>0.1010</td>\n",
       "      <td>0.1500</td>\n",
       "    </tr>\n",
       "    <tr>\n",
       "      <th>1</th>\n",
       "      <td>1</td>\n",
       "      <td>0.350</td>\n",
       "      <td>0.265</td>\n",
       "      <td>0.090</td>\n",
       "      <td>0.2255</td>\n",
       "      <td>0.0995</td>\n",
       "      <td>0.0485</td>\n",
       "      <td>0.0700</td>\n",
       "    </tr>\n",
       "    <tr>\n",
       "      <th>2</th>\n",
       "      <td>0</td>\n",
       "      <td>0.530</td>\n",
       "      <td>0.420</td>\n",
       "      <td>0.135</td>\n",
       "      <td>0.6770</td>\n",
       "      <td>0.2565</td>\n",
       "      <td>0.1415</td>\n",
       "      <td>0.2100</td>\n",
       "    </tr>\n",
       "    <tr>\n",
       "      <th>3</th>\n",
       "      <td>1</td>\n",
       "      <td>0.440</td>\n",
       "      <td>0.365</td>\n",
       "      <td>0.125</td>\n",
       "      <td>0.5160</td>\n",
       "      <td>0.2155</td>\n",
       "      <td>0.1140</td>\n",
       "      <td>0.1550</td>\n",
       "    </tr>\n",
       "    <tr>\n",
       "      <th>4</th>\n",
       "      <td>2</td>\n",
       "      <td>0.330</td>\n",
       "      <td>0.255</td>\n",
       "      <td>0.080</td>\n",
       "      <td>0.2050</td>\n",
       "      <td>0.0895</td>\n",
       "      <td>0.0395</td>\n",
       "      <td>0.0550</td>\n",
       "    </tr>\n",
       "    <tr>\n",
       "      <th>...</th>\n",
       "      <td>...</td>\n",
       "      <td>...</td>\n",
       "      <td>...</td>\n",
       "      <td>...</td>\n",
       "      <td>...</td>\n",
       "      <td>...</td>\n",
       "      <td>...</td>\n",
       "      <td>...</td>\n",
       "    </tr>\n",
       "    <tr>\n",
       "      <th>4172</th>\n",
       "      <td>0</td>\n",
       "      <td>0.565</td>\n",
       "      <td>0.450</td>\n",
       "      <td>0.165</td>\n",
       "      <td>0.8870</td>\n",
       "      <td>0.3700</td>\n",
       "      <td>0.2390</td>\n",
       "      <td>0.2490</td>\n",
       "    </tr>\n",
       "    <tr>\n",
       "      <th>4173</th>\n",
       "      <td>1</td>\n",
       "      <td>0.590</td>\n",
       "      <td>0.440</td>\n",
       "      <td>0.135</td>\n",
       "      <td>0.8200</td>\n",
       "      <td>0.4390</td>\n",
       "      <td>0.2145</td>\n",
       "      <td>0.2605</td>\n",
       "    </tr>\n",
       "    <tr>\n",
       "      <th>4174</th>\n",
       "      <td>1</td>\n",
       "      <td>0.600</td>\n",
       "      <td>0.475</td>\n",
       "      <td>0.205</td>\n",
       "      <td>0.8200</td>\n",
       "      <td>0.5255</td>\n",
       "      <td>0.2875</td>\n",
       "      <td>0.3080</td>\n",
       "    </tr>\n",
       "    <tr>\n",
       "      <th>4175</th>\n",
       "      <td>0</td>\n",
       "      <td>0.625</td>\n",
       "      <td>0.485</td>\n",
       "      <td>0.150</td>\n",
       "      <td>0.8200</td>\n",
       "      <td>0.5310</td>\n",
       "      <td>0.2610</td>\n",
       "      <td>0.2960</td>\n",
       "    </tr>\n",
       "    <tr>\n",
       "      <th>4176</th>\n",
       "      <td>1</td>\n",
       "      <td>0.710</td>\n",
       "      <td>0.555</td>\n",
       "      <td>0.195</td>\n",
       "      <td>0.8200</td>\n",
       "      <td>0.9455</td>\n",
       "      <td>0.3765</td>\n",
       "      <td>0.4950</td>\n",
       "    </tr>\n",
       "  </tbody>\n",
       "</table>\n",
       "<p>4177 rows × 8 columns</p>\n",
       "</div>"
      ],
      "text/plain": [
       "      Sex  Length  Diameter  Height  Whole weight  Shucked weight  \\\n",
       "0       1   0.455     0.365   0.095        0.5140          0.2245   \n",
       "1       1   0.350     0.265   0.090        0.2255          0.0995   \n",
       "2       0   0.530     0.420   0.135        0.6770          0.2565   \n",
       "3       1   0.440     0.365   0.125        0.5160          0.2155   \n",
       "4       2   0.330     0.255   0.080        0.2050          0.0895   \n",
       "...   ...     ...       ...     ...           ...             ...   \n",
       "4172    0   0.565     0.450   0.165        0.8870          0.3700   \n",
       "4173    1   0.590     0.440   0.135        0.8200          0.4390   \n",
       "4174    1   0.600     0.475   0.205        0.8200          0.5255   \n",
       "4175    0   0.625     0.485   0.150        0.8200          0.5310   \n",
       "4176    1   0.710     0.555   0.195        0.8200          0.9455   \n",
       "\n",
       "      Viscera weight  Shell weight  \n",
       "0             0.1010        0.1500  \n",
       "1             0.0485        0.0700  \n",
       "2             0.1415        0.2100  \n",
       "3             0.1140        0.1550  \n",
       "4             0.0395        0.0550  \n",
       "...              ...           ...  \n",
       "4172          0.2390        0.2490  \n",
       "4173          0.2145        0.2605  \n",
       "4174          0.2875        0.3080  \n",
       "4175          0.2610        0.2960  \n",
       "4176          0.3765        0.4950  \n",
       "\n",
       "[4177 rows x 8 columns]"
      ]
     },
     "execution_count": 54,
     "metadata": {},
     "output_type": "execute_result"
    }
   ],
   "source": [
    "x=d.drop(columns= ['Rings'])\n",
    "y=d['Rings']\n",
    "x"
   ]
  },
  {
   "cell_type": "code",
   "execution_count": 55,
   "metadata": {},
   "outputs": [
    {
     "data": {
      "text/plain": [
       "0       15\n",
       "1        7\n",
       "2        9\n",
       "3       10\n",
       "4        7\n",
       "        ..\n",
       "4172    11\n",
       "4173    10\n",
       "4174     9\n",
       "4175    10\n",
       "4176    12\n",
       "Name: Rings, Length: 4177, dtype: int64"
      ]
     },
     "execution_count": 55,
     "metadata": {},
     "output_type": "execute_result"
    }
   ],
   "source": []
  },
  {
   "cell_type": "markdown",
   "metadata": {},
   "source": [
    "# Scale the independent variables"
   ]
  },
  {
   "cell_type": "code",
   "execution_count": 56,
   "metadata": {},
   "outputs": [],
   "source": [
    "from sklearn.preprocessing import scale"
   ]
  },
  {
   "cell_type": "code",
   "execution_count": 57,
   "metadata": {},
   "outputs": [
    {
     "data": {
      "text/plain": [
       "array([[-1.05224984e-02, -6.70889209e-01, -5.01796944e-01, ...,\n",
       "        -6.07685365e-01, -7.26211574e-01, -6.43587423e-01],\n",
       "       [-1.05224984e-02, -1.61376082e+00, -1.57304487e+00, ...,\n",
       "        -1.17090984e+00, -1.20522124e+00, -1.25742181e+00],\n",
       "       [-1.26630752e+00,  2.59051334e-03,  8.73894154e-02, ...,\n",
       "        -4.63499899e-01, -3.56689830e-01, -1.83211635e-01],\n",
       "       ...,\n",
       "       [-1.05224984e-02,  6.31171587e-01,  6.76575775e-01, ...,\n",
       "         7.48559173e-01,  9.75413244e-01,  5.68735485e-01],\n",
       "       [-1.26630752e+00,  8.55664828e-01,  7.83700567e-01, ...,\n",
       "         7.73341050e-01,  7.33627412e-01,  4.76660328e-01],\n",
       "       [-1.05224984e-02,  1.61894185e+00,  1.53357412e+00, ...,\n",
       "         2.64099341e+00,  1.78744868e+00,  2.00357336e+00]])"
      ]
     },
     "execution_count": 57,
     "metadata": {},
     "output_type": "execute_result"
    }
   ],
   "source": [
    "x = scale(x)\n",
    "x"
   ]
  },
  {
   "cell_type": "markdown",
   "metadata": {},
   "source": [
    "# Split the Data into training and testing"
   ]
  },
  {
   "cell_type": "code",
   "execution_count": 58,
   "metadata": {},
   "outputs": [],
   "source": [
    "from sklearn.model_selection import train_test_split"
   ]
  },
  {
   "cell_type": "code",
   "execution_count": 59,
   "metadata": {},
   "outputs": [
    {
     "name": "stdout",
     "output_type": "stream",
     "text": [
      "(3341, 8) (836, 8)\n"
     ]
    }
   ],
   "source": [
    "x_train, x_test, y_train, y_test = train_test_split(x,y, test_size = 0.2)\n",
    "print(x_train.shape, x_test.shape)"
   ]
  },
  {
   "cell_type": "markdown",
   "metadata": {},
   "source": [
    "# Build the model"
   ]
  },
  {
   "cell_type": "code",
   "execution_count": 60,
   "metadata": {},
   "outputs": [],
   "source": [
    "from sklearn.linear_model import LinearRegression\n",
    "MLR=LinearRegression()"
   ]
  },
  {
   "cell_type": "markdown",
   "metadata": {},
   "source": [
    "# Train the model"
   ]
  },
  {
   "cell_type": "code",
   "execution_count": 61,
   "metadata": {},
   "outputs": [
    {
     "data": {
      "text/plain": [
       "LinearRegression()"
      ]
     },
     "execution_count": 61,
     "metadata": {},
     "output_type": "execute_result"
    }
   ],
   "source": [
    "MLR.fit(x_train,y_train)"
   ]
  },
  {
   "cell_type": "markdown",
   "metadata": {},
   "source": [
    "# Test the model"
   ]
  },
  {
   "cell_type": "code",
   "execution_count": 62,
   "metadata": {},
   "outputs": [
    {
     "data": {
      "text/plain": [
       "array([10.89410759, 11.28171457, 12.04701996,  9.38184201, 11.89148331,\n",
       "       11.3481736 ,  6.67455665, 10.78771686,  7.3992955 , 10.97722556,\n",
       "        9.26594247,  6.13456699,  6.71094786,  7.63326291,  8.26936309,\n",
       "       10.0963329 , 14.59976029, 10.6817246 , 10.56747563, 12.86686704,\n",
       "       10.1924838 ,  8.57273613,  7.79457369, 11.55773939,  7.75506743,\n",
       "        9.7528105 ,  8.36739062, 11.0055499 ,  8.86088715, 14.06108911,\n",
       "       13.53039602, 12.34513835, 11.41840174, 10.3955304 ,  7.80651924,\n",
       "       10.80495842, 10.7705533 , 10.09003239, 13.4823873 , 10.64488606,\n",
       "       11.71667917, 11.80437077, 10.78296746, 12.44431332,  7.78376166,\n",
       "       11.53358348, 12.73968465, 12.01589473,  9.44154928, 11.3910635 ,\n",
       "       13.46371685,  8.86229655, 10.25251093,  6.30655626, 12.5256711 ,\n",
       "       10.97657708, 10.61096987, 11.2484752 , 11.56797654, 10.30943033,\n",
       "       12.65100451,  8.74174408,  7.11652075,  6.93384181,  9.02971283,\n",
       "       11.61088521, 11.26595945,  7.32685201, 15.24636388,  8.1651404 ,\n",
       "        6.3472674 ,  9.3978454 ,  8.80694511,  6.98287307,  9.11071344,\n",
       "        7.315131  , 11.28263415,  7.60052951,  7.04508173, 10.27528208,\n",
       "       11.69982999, 12.00810725,  6.59148924, 10.71801812,  9.54331111,\n",
       "       12.61000409,  7.59798331, 12.11461955,  9.53984019,  9.3914854 ,\n",
       "        7.14471734,  7.38423407, 10.30002738,  7.35235193, 10.66851616,\n",
       "       11.31580173,  6.86327742,  9.34551622, 11.67036436, 11.27046235,\n",
       "       11.94082637,  9.93519612,  9.31715411,  6.98704466,  8.65188675,\n",
       "        9.72080766, 11.08101363, 12.7954484 ,  7.10466164, 10.23578265,\n",
       "       11.32480675, 10.91776639,  6.24603901, 10.54839704,  9.34347605,\n",
       "        9.08461655,  8.01497013, 12.00148581, 11.73254868,  8.90393956,\n",
       "       10.85639625,  7.99307251, 11.30147275, 14.75852396,  8.57558148,\n",
       "       12.55497678,  8.84072191,  6.98202241,  8.58045167, 11.49356022,\n",
       "       10.99128982,  9.72919449,  9.14087374,  8.75526655,  9.31262664,\n",
       "        3.15701212, 12.85506544, 12.55544569, 12.84887841,  9.37494577,\n",
       "       10.36562538, 11.80641178,  3.56696345,  8.41737319, 10.14351008,\n",
       "       12.46733312, 11.40759622,  7.72102852, 11.22319495,  8.44247305,\n",
       "        6.97346538,  6.67866663,  3.4266401 ,  7.76427653, 12.84726655,\n",
       "        8.04628208, 10.06891657,  9.64207467,  9.16235374, 11.41736096,\n",
       "        6.86765991, 10.89328946,  9.98801955, 10.67529016,  6.63753543,\n",
       "       10.53996601,  8.92847675,  7.79074949,  8.87456809,  9.77365529,\n",
       "       11.13925909,  8.06182168, 10.15071762,  9.72115468, 12.49375557,\n",
       "       11.30836366, 10.39661293,  9.74342884,  7.6763706 ,  9.27288651,\n",
       "       10.06080837,  7.42288873, 12.95537904, 12.31691542,  7.19383739,\n",
       "       11.57317389, 13.08241772, 10.95640471,  8.8306638 ,  6.98821197,\n",
       "        8.48714666, 13.13667191,  6.5771239 ,  8.83001116,  9.24062993,\n",
       "        9.60953446, 10.97458801,  6.23397176, 10.51359737, 10.70858409,\n",
       "        7.80137085,  8.54304906, 12.29316784, 12.33436315, 10.8311818 ,\n",
       "        8.54250946,  9.30357439, 12.0777249 , 12.22215966,  7.55525769,\n",
       "        5.15388664,  9.71788746, 11.55704949,  7.21258827, 11.63014365,\n",
       "        6.84810282,  5.88093318,  7.04799095,  6.9166274 , 10.9044896 ,\n",
       "        8.2898381 , 12.01407194,  7.8488352 ,  9.0397425 ,  9.94422064,\n",
       "       13.09241113, 11.65905199, 10.9611954 , 10.28315014,  9.42149044,\n",
       "       13.19840821, 11.12111251,  7.79656538, 10.90288296,  9.48099675,\n",
       "       10.27459349, 11.090783  , 13.03893926, 11.51475243, 12.34639112,\n",
       "        7.35392894,  7.87713626, 10.42410037, 11.20841826, 13.83850843,\n",
       "        6.30514885,  6.26961052, 10.60318133,  7.65011394,  6.80861704,\n",
       "        6.96209038, 11.83365067, 11.6611202 ,  8.07872759,  8.83789155,\n",
       "       10.23158888,  9.50525329,  9.0531449 ,  6.40285547, 11.03701618,\n",
       "        9.40310604,  9.98639257,  7.96736755, 10.93957365, 13.38533655,\n",
       "       11.97414048, 11.45670305, 12.62462944,  7.6541915 ,  7.89117532,\n",
       "        9.54190252,  9.56101624,  6.94305134,  9.76121992, 11.74659345,\n",
       "        9.8309869 ,  8.61401873,  8.31431677,  8.65887805, 11.12092639,\n",
       "       10.13245037,  8.58887202,  9.02403042, 11.59314375, 12.29774739,\n",
       "       12.00194641, 15.23396401,  9.74515028, 12.82559354, 11.05655934,\n",
       "        9.51388299,  8.41542271,  7.05653251, 10.83090194,  6.62459317,\n",
       "        8.05666189, 11.36928041, 10.18070884, 12.11936892,  7.95431497,\n",
       "        7.6843711 , 10.09392876,  9.34545806, 10.2229337 ,  9.12054184,\n",
       "        8.99619495,  6.29309646, 10.41817988, 10.27632724,  8.82930416,\n",
       "        8.61364186,  8.06599993,  8.25715319,  8.97305871, 10.85817683,\n",
       "        8.88820602, 12.18303694, 10.95051427,  8.67434812,  8.02885302,\n",
       "        8.29473056, 10.92191759, 11.736877  ,  9.68060441, 10.01505216,\n",
       "        8.99207929,  9.24114882,  7.63680946,  9.11490488,  7.79786121,\n",
       "       10.82493199, 11.80941771, 15.08200243,  9.74258582,  8.33082624,\n",
       "        9.8196087 ,  8.96433219, 11.28869801, 10.68902306, 13.28420124,\n",
       "       11.0273136 ,  9.3702343 ,  9.28282826, 11.87804803,  8.03596784,\n",
       "       13.4822748 , 12.09621175, 11.86735862,  8.62664488,  8.32491319,\n",
       "       11.87219411,  7.6297723 ,  6.30470193, 12.48931726, 10.27175895,\n",
       "       11.48510473, 13.49819188,  9.32048243,  9.12395633, 10.3708397 ,\n",
       "       10.20349531, 10.94329643, 12.41204789, 11.27438299, 14.26174848,\n",
       "        8.15280127,  7.54714187, 11.68979268,  8.33835588, 10.19767458,\n",
       "        6.60921061, 11.22499451,  7.09140852, 10.13652046, 10.51706686,\n",
       "        6.92736761, 13.78265454, 12.17078489,  9.05732158, 12.23973757,\n",
       "       10.01552105, 10.49914692, 10.64815987,  9.3941095 ,  5.58395739,\n",
       "       10.46604098,  8.82642954, 12.50032327, 10.40004012, 11.26706838,\n",
       "        7.90593974, 12.13186173, 12.67623378,  9.05656532,  8.58946537,\n",
       "        9.27805018, 10.87163088, 14.63415976,  6.44476277, 10.1475305 ,\n",
       "        7.5084616 , 12.39598399, 10.07366312,  7.69995613,  8.53888098,\n",
       "        3.4087896 , 10.32914054, 13.25148311,  7.23030108,  6.17777944,\n",
       "        9.97269714,  6.18884904, 10.23056907, 12.46617404,  9.69633297,\n",
       "        8.65625836, 10.55951218, 11.84376052, 10.59218245, 10.09757475,\n",
       "        9.85818825,  7.20539995,  9.77170665, 10.82857748, 10.8109475 ,\n",
       "       13.96126492, 13.05533226, 11.66197272, 10.67630929, 10.13231139,\n",
       "        7.51944261,  8.03504517,  9.88459342, 13.82297401,  7.31800081,\n",
       "        7.95386857, 12.39357562, 10.33454223,  7.56034607,  8.72075314,\n",
       "       11.06465483, 10.91482231, 12.91638312,  9.40974491,  9.57132417,\n",
       "        7.11763163, 13.00164958, 10.89208372,  9.14287727, 11.3411275 ,\n",
       "       11.40114383, 12.04509375,  7.79020934, 10.23646307, 14.08502038,\n",
       "        9.93546687,  8.78508899, 10.75781943, 10.69866583,  6.96937283,\n",
       "       10.9759521 , 13.31696596, 10.80249672, 13.03450491, 10.37072018,\n",
       "        9.25364106, 11.98550748, 11.18481631,  6.49381832, 10.27427759,\n",
       "       12.08862102, 12.37390566, 11.43135488,  6.72515533, 12.24506315,\n",
       "        8.75162537,  6.97067457,  7.27975203, 13.18100788, 10.78992739,\n",
       "       12.60033636,  7.14733222,  7.0880002 ,  8.79626473,  7.60817319,\n",
       "       12.71445712,  6.80282918,  8.77974951,  9.82300662, 12.06026506,\n",
       "       11.55233486, 12.46568093,  8.19541934,  7.90950254,  6.93164017,\n",
       "        8.20772037,  8.0932268 , 10.16701252, 13.93668672, 12.40068187,\n",
       "       10.07273811, 10.9052472 ,  9.00239638,  8.72343808,  9.46535454,\n",
       "       13.52504765, 13.72275514,  7.1645997 , 10.11671061,  8.07969591,\n",
       "        9.64512624,  8.96095684, 10.505925  ,  6.41391375,  7.26450898,\n",
       "        7.51864219, 10.15372927,  9.00951683, 10.25059555, 10.21848899,\n",
       "       10.31535529,  9.06999411, 13.41498081, 12.62618755,  7.17064624,\n",
       "       10.54452997,  7.72855105, 10.71753557,  8.10866258,  6.63655653,\n",
       "        7.50269106, 11.79045539,  6.35438907, 11.47151093,  8.49049029,\n",
       "       10.75907267,  4.47679054, 12.50235602,  8.05074897,  7.02494123,\n",
       "       10.49267051, 10.43459088, 11.05455306, 10.99942041, 11.88752606,\n",
       "       10.75034573, 11.75577278, 11.37178992,  9.48431692, 10.7262447 ,\n",
       "       10.78761088,  6.5464301 , 10.316343  , 12.20600183, 12.08975045,\n",
       "        8.71999576, 11.27539569, 12.6196716 , 10.06221906, 10.78034975,\n",
       "        9.0040713 ,  8.8360147 , 10.58553244, 15.94985962, 11.10668452,\n",
       "        7.9345402 , 11.37086608,  9.38093184,  6.44607694, 10.28245173,\n",
       "       11.22036741, 11.71224181,  7.73484782, 12.25688021, 10.00319043,\n",
       "        8.13055298, 12.7118827 ,  8.43802359, 12.96773643, 14.9524915 ,\n",
       "       11.08417082,  6.80328207, 11.82768075, 11.10336524,  7.43787029,\n",
       "        8.71047549, 10.7362551 ,  8.54860417,  8.68605637, 10.28639654,\n",
       "        8.75724591,  9.0783551 , 10.86297069, 10.59961149,  6.10270595,\n",
       "       10.12265541,  8.72817716, 12.64397198,  6.34504487,  6.72214738,\n",
       "       12.57920579, 12.83676786, 11.62139707, 11.92064753, 11.80769355,\n",
       "       10.4659246 ,  7.84796285,  8.21062726, 13.73706895,  8.56495901,\n",
       "       12.01765791, 11.70293786,  7.15861237, 11.58267937, 10.05843072,\n",
       "        6.7149647 , 12.00967124,  9.46168394,  9.20294109, 11.41326094,\n",
       "        9.01945855,  6.02701224, 11.22868607, 11.57704311,  8.33204114,\n",
       "       12.22765617,  8.54796938,  8.23904497,  9.54039356, 10.56932529,\n",
       "        8.47904533,  6.79202022,  8.83052914,  8.32675058, 12.93170807,\n",
       "       10.79217877, 12.58792682,  6.39764604,  7.04821888, 13.35611031,\n",
       "        7.57875342, 10.42949639, 11.67134658, 13.35295419, 10.05836419,\n",
       "        9.5591699 ,  7.156597  ,  8.55858837, 10.5668397 , 11.51829752,\n",
       "       11.43317153, 14.46494823, 11.85034935,  9.10561379, 10.08040973,\n",
       "       10.6476982 ,  8.28261841, 13.6943934 ,  7.81042525, 16.8964425 ,\n",
       "       13.21406478, 11.2372389 ,  7.82457197, 12.84167147, 12.70367272,\n",
       "       13.49696528, 10.45342728, 10.21914876, 10.50725103,  9.16005397,\n",
       "        8.54423067, 12.24047908, 11.93118681, 11.0978567 ,  8.93209046,\n",
       "       10.20421189, 10.7796131 ,  9.95727267, 10.98428166, 10.4821858 ,\n",
       "       12.23419723, 11.67705727, 10.73601088,  8.17203621, 11.17369023,\n",
       "        6.96763402,  7.94906892, 10.58211894, 13.11367229,  9.18685797,\n",
       "        7.04426805, 12.20233402, 13.51572681,  9.82490968, 12.39039764,\n",
       "       14.00165621, 11.1518393 ,  9.77728867, 12.73940057, 11.1153126 ,\n",
       "       10.07236409,  7.86232844,  7.80575309,  9.36212428,  6.76722582,\n",
       "       10.34807754,  7.21981617, 10.97684608, 10.50635045,  9.28171212,\n",
       "       10.50889779,  7.58344783, 10.04623304, 10.36226726,  5.49860956,\n",
       "       10.1648939 , 12.3467823 ,  8.29972621, 10.87301055,  8.63040521,\n",
       "       12.68816092,  9.6657248 , 10.6993386 ,  8.68510738,  7.83709024,\n",
       "        8.57859361,  8.46595471, 11.94485494, 13.81520146,  6.96350858,\n",
       "        7.32886181, 10.981108  , 11.58625842, 11.26109275, 11.90779301,\n",
       "        6.37859785, 11.21841866,  6.53273224,  6.09101838, 10.21397159,\n",
       "        4.1408586 ,  8.39728461, 11.29574314,  9.97032222,  3.11255003,\n",
       "       11.38325114,  8.65828727,  9.25995665,  9.73392649,  6.17519801,\n",
       "        7.00147065, 11.44340551, 14.56073945, 10.67484845, 14.77425194,\n",
       "        9.45516579,  6.74169484, 10.63947456,  9.85891075, 13.68547032,\n",
       "       11.07328028,  9.17163525,  6.69455764,  6.74872385,  7.8638495 ,\n",
       "        6.99000005, 11.22604335,  8.38179313, 14.13122194, 11.61370542,\n",
       "       11.3284451 , 11.33503773,  6.09931113,  6.71589156, 11.70484702,\n",
       "        9.96032462,  7.61996354, 11.70536653,  6.85610537, 10.60334668,\n",
       "        9.27466364, 11.65809922, 11.51791104,  8.86962922, 11.09449301,\n",
       "        9.98122525,  9.74032613, 12.62256118,  9.01753453, 10.79585701,\n",
       "       11.52446114,  5.02248756, 10.8996901 ,  7.12978675, 12.01134962,\n",
       "        7.9188999 ,  8.72402309, 12.09254151,  6.85605941, 11.4757569 ,\n",
       "       13.87769682, 12.70132921,  6.4863895 , 12.63383395, 13.15759352,\n",
       "        9.73414104, 11.02760153, 11.65934036,  5.05016934,  8.99930908,\n",
       "       10.19671327,  9.92839637, 11.21751095,  8.99093176, 11.8411921 ,\n",
       "       12.89835271, 13.66581858,  9.29941693,  9.57323385, 11.82245924,\n",
       "        7.74084633, 11.56622665,  8.70756366, 11.42820472,  9.37591661,\n",
       "        9.53401171,  6.39377222,  6.3643854 , 10.02119964,  8.72426572,\n",
       "       12.29179828,  9.02378223,  7.31107193,  7.63258895, 10.97634797,\n",
       "       13.25262724])"
      ]
     },
     "execution_count": 62,
     "metadata": {},
     "output_type": "execute_result"
    }
   ],
   "source": [
    "y_pred=MLR.predict(x_test)\n",
    "y_pred"
   ]
  },
  {
   "cell_type": "code",
   "execution_count": 63,
   "metadata": {},
   "outputs": [
    {
     "data": {
      "text/plain": [
       "array([ 8.73160975, 11.19050213, 11.65360412, ...,  9.63104392,\n",
       "        6.66671895, 12.29710708])"
      ]
     },
     "execution_count": 63,
     "metadata": {},
     "output_type": "execute_result"
    }
   ],
   "source": [
    "pred=MLR.predict(x_train)\n",
    "pred"
   ]
  },
  {
   "cell_type": "markdown",
   "metadata": {},
   "source": [
    "from sklearn.metrics import r2_score\n",
    "acc=r2_score(y_test,y_pred)\n",
    "acc"
   ]
  },
  {
   "cell_type": "code",
   "execution_count": 65,
   "metadata": {},
   "outputs": [
    {
     "data": {
      "text/plain": [
       "array([9.87781828])"
      ]
     },
     "execution_count": 65,
     "metadata": {},
     "output_type": "execute_result"
    }
   ],
   "source": [
    "MLR.predict([[1,0.455,0.365,0.095,0.5140,0.2245,0.1010,0.150]])"
   ]
  },
  {
   "cell_type": "markdown",
   "metadata": {},
   "source": [
    "# Measure the performance using metrics"
   ]
  },
  {
   "cell_type": "code",
   "execution_count": 66,
   "metadata": {},
   "outputs": [],
   "source": [
    "from sklearn import metrics\n",
    "from sklearn.metrics import mean_squared_error"
   ]
  },
  {
   "cell_type": "code",
   "execution_count": 67,
   "metadata": {},
   "outputs": [
    {
     "data": {
      "text/plain": [
       "2.353826650589242"
      ]
     },
     "execution_count": 67,
     "metadata": {},
     "output_type": "execute_result"
    }
   ],
   "source": [
    "np.sqrt(mean_squared_error(y_test,y_pred))"
   ]
  },
  {
   "cell_type": "markdown",
   "metadata": {},
   "source": [
    "# LASSO"
   ]
  },
  {
   "cell_type": "code",
   "execution_count": 68,
   "metadata": {},
   "outputs": [],
   "source": [
    "from sklearn.linear_model import Lasso, Ridge"
   ]
  },
  {
   "cell_type": "code",
   "execution_count": 69,
   "metadata": {},
   "outputs": [],
   "source": [
    "lso=Lasso(alpha=0.01,normalize=True)"
   ]
  },
  {
   "cell_type": "code",
   "execution_count": 70,
   "metadata": {},
   "outputs": [
    {
     "data": {
      "text/plain": [
       "Lasso(alpha=0.01, normalize=True)"
      ]
     },
     "execution_count": 70,
     "metadata": {},
     "output_type": "execute_result"
    }
   ],
   "source": [
    "lso.fit(x_train,y_train)"
   ]
  },
  {
   "cell_type": "code",
   "execution_count": 71,
   "metadata": {},
   "outputs": [],
   "source": [
    "lso_pred=lso.predict(x_test)"
   ]
  },
  {
   "cell_type": "code",
   "execution_count": 72,
   "metadata": {},
   "outputs": [
    {
     "data": {
      "text/plain": [
       "array([-0.        ,  0.        ,  0.        ,  0.44225593,  0.13385694,\n",
       "        0.        ,  0.        ,  0.87147504])"
      ]
     },
     "execution_count": 72,
     "metadata": {},
     "output_type": "execute_result"
    }
   ],
   "source": [
    "coef=lso.coef_\n",
    "coef"
   ]
  },
  {
   "cell_type": "code",
   "execution_count": 73,
   "metadata": {},
   "outputs": [
    {
     "data": {
      "text/plain": [
       "0.34594761929409934"
      ]
     },
     "execution_count": 73,
     "metadata": {},
     "output_type": "execute_result"
    }
   ],
   "source": [
    "from sklearn import metrics\n",
    "from sklearn.metrics import mean_squared_error\n",
    "metrics.r2_score(y_test,lso_pred)"
   ]
  },
  {
   "cell_type": "code",
   "execution_count": 74,
   "metadata": {},
   "outputs": [
    {
     "data": {
      "text/plain": [
       "2.5695371378832816"
      ]
     },
     "execution_count": 74,
     "metadata": {},
     "output_type": "execute_result"
    }
   ],
   "source": [
    "np.sqrt(mean_squared_error(y_test,lso_pred))"
   ]
  },
  {
   "cell_type": "markdown",
   "metadata": {},
   "source": [
    "# RIDGE"
   ]
  },
  {
   "cell_type": "code",
   "execution_count": 75,
   "metadata": {},
   "outputs": [],
   "source": [
    "rg=Ridge(alpha=0.01,normalize=True)"
   ]
  },
  {
   "cell_type": "code",
   "execution_count": 76,
   "metadata": {},
   "outputs": [
    {
     "data": {
      "text/plain": [
       "Ridge(alpha=0.01, normalize=True)"
      ]
     },
     "execution_count": 76,
     "metadata": {},
     "output_type": "execute_result"
    }
   ],
   "source": [
    "rg.fit(x_train,y_train)"
   ]
  },
  {
   "cell_type": "code",
   "execution_count": 77,
   "metadata": {},
   "outputs": [
    {
     "data": {
      "text/plain": [
       "array([10.92727649, 11.28206576, 11.96727624,  9.44561368, 11.87848839,\n",
       "       11.30842631,  6.65068313, 10.79049444,  7.45797999, 10.90614072,\n",
       "        9.2406611 ,  6.10459409,  6.66908163,  7.63217476,  8.31033535,\n",
       "       10.09249589, 14.35236494, 10.86923962, 10.61729436, 12.77755867,\n",
       "       10.08322328,  8.56397174,  7.7805967 , 11.64412167,  7.87363391,\n",
       "        9.82882261,  8.34555343, 11.09470732,  8.94883653, 13.94234379,\n",
       "       13.38868654, 12.39982003, 11.41699704, 10.48870521,  7.7843035 ,\n",
       "       10.71793772, 10.82086403, 10.07556199, 13.33599633, 10.68993274,\n",
       "       11.76600038, 11.75023998, 10.85756539, 12.31165573,  7.76268742,\n",
       "       11.47342329, 12.61265236, 11.8951042 ,  9.45306538, 11.36593338,\n",
       "       13.31239281,  8.86854376, 10.29548052,  6.2647131 , 12.44985763,\n",
       "       10.98921791, 10.60196175, 11.16922947, 11.49838952, 10.29935363,\n",
       "       12.64684581,  8.79823769,  7.1093381 ,  7.01735651,  9.14705057,\n",
       "       11.59378496, 11.21610159,  7.34948404, 14.9814666 ,  8.12477756,\n",
       "        6.31841666,  9.47340341,  8.82237425,  6.99078861,  9.13600993,\n",
       "        7.3125526 , 11.21439645,  7.58815629,  7.04088888, 10.30664557,\n",
       "       11.73745269, 11.88967841,  6.54896908, 10.76538225,  9.63524878,\n",
       "       12.51272712,  7.60113191, 11.93910137,  9.64432914,  9.39725462,\n",
       "        7.11805243,  7.41551822, 10.27066164,  7.36636728, 10.59642443,\n",
       "       11.31674026,  6.8499647 ,  9.57649928, 11.73514792, 11.15957355,\n",
       "       11.99915801, 10.05052907,  9.42696273,  6.95815044,  8.67286427,\n",
       "        9.71249311, 11.16948504, 12.73176204,  7.11400991, 10.32632852,\n",
       "       11.2742199 , 10.92880761,  6.26305248, 10.50086068,  9.39448221,\n",
       "        9.09476195,  7.99955232, 11.9792568 , 11.76919966,  8.90590082,\n",
       "       10.97368955,  7.93854912, 11.3482139 , 14.60168451,  8.62728225,\n",
       "       12.54169919,  8.80768965,  6.99209912,  8.65966342, 11.51140785,\n",
       "       11.1266973 ,  9.84084278,  9.23427528,  8.87379223,  9.33654811,\n",
       "        3.71065493, 12.79870031, 12.45670305, 12.87426872,  9.32436751,\n",
       "       10.42231613, 11.7462398 ,  4.12868458,  8.4744612 , 10.14395731,\n",
       "       12.36244886, 11.32990869,  7.80645498, 11.16610412,  8.57968601,\n",
       "        7.00161738,  6.70132879,  3.95771632,  7.75188273, 12.80848805,\n",
       "        8.08836932, 10.17363081,  9.6258638 ,  9.15687672, 11.60351987,\n",
       "        6.88865445, 10.8879661 , 10.0156788 , 10.71956623,  6.67328013,\n",
       "       10.72048059,  8.92406675,  7.90309035,  8.86226226,  9.86353327,\n",
       "       11.12789768,  8.11670524, 10.08877508,  9.78846046, 12.5224955 ,\n",
       "       11.20163696, 10.43146254,  9.80545436,  7.79108293,  9.26897015,\n",
       "       10.12291508,  7.43239239, 12.89731163, 12.23329807,  7.24094581,\n",
       "       11.62903338, 13.04122867, 10.92415339,  8.9031413 ,  7.06981398,\n",
       "        8.46576128, 13.04376216,  6.62553327,  8.80687864,  9.25537433,\n",
       "        9.59568347, 10.87673897,  6.21853166, 10.59915992, 10.73325568,\n",
       "        7.7893847 ,  8.54473758, 12.16821192, 12.22667045, 10.93100902,\n",
       "        8.52651042,  9.44312862, 12.058273  , 12.15720639,  7.54527191,\n",
       "        5.21635663,  9.66946091, 11.44809927,  7.19150178, 11.66631174,\n",
       "        6.85193027,  5.84955021,  7.05500654,  6.99818921, 10.83684149,\n",
       "        8.37273033, 11.98870229,  7.8232447 ,  9.07379004, 10.03518078,\n",
       "       12.93612214, 11.71683922, 11.02382633, 10.23302458,  9.52161154,\n",
       "       13.04102551, 11.28067111,  7.90234695, 10.92712352,  9.62981593,\n",
       "       10.48656078, 11.12646427, 12.97822423, 11.49734188, 12.3242418 ,\n",
       "        7.37582581,  7.88268491, 10.36814359, 11.02035249, 13.68489193,\n",
       "        6.3080758 ,  6.34488442, 10.66339888,  7.60709604,  6.82310588,\n",
       "        6.94431744, 11.83959155, 11.6723176 ,  8.01657869,  8.91873721,\n",
       "       10.21327894,  9.50733641,  9.05181963,  6.40574623, 10.9198824 ,\n",
       "        9.36463192, 10.06641036,  7.94830619, 10.83727319, 13.32840407,\n",
       "       12.00268503, 11.44726682, 12.5826219 ,  7.22709894,  7.88422856,\n",
       "        9.51390304,  9.55974895,  7.02611829,  9.73308359, 11.68722758,\n",
       "        9.84894482,  8.66287684,  8.50479231,  8.65362732, 11.10278905,\n",
       "       10.16032263,  8.5957032 ,  9.07920469, 11.55963621, 12.13375068,\n",
       "       12.09867506, 14.98896524,  9.83559146, 12.76472515, 11.08451159,\n",
       "        9.51079976,  8.56859311,  7.05725382, 10.75355404,  6.64816318,\n",
       "        8.11014393, 11.3863244 , 10.2216895 , 12.09123363,  7.96468478,\n",
       "        7.7094126 , 10.20031129,  9.32300327, 10.26820654,  9.18120672,\n",
       "        9.02816844,  6.70756525, 10.46996343, 10.27542219,  8.8373537 ,\n",
       "        8.71225599,  8.07224092,  8.19813441,  9.02465525, 10.8242416 ,\n",
       "        8.85045517, 12.12779074, 11.02610795,  8.68616511,  8.02577918,\n",
       "        8.3546606 , 10.88644007, 11.63485096,  9.62186499, 10.02584906,\n",
       "        8.94191104,  9.40060213,  7.74419197,  9.18110293,  7.8190082 ,\n",
       "       10.89854327, 11.74170754, 15.00646684, 10.00132362,  8.34668389,\n",
       "        9.95412355,  9.0090723 , 11.31644611, 10.67555946, 13.14974965,\n",
       "       10.88572868,  9.55816979,  9.30330913, 11.8411549 ,  8.09623598,\n",
       "       13.48510538, 12.08445518, 11.72829984,  8.65869221,  8.52938808,\n",
       "       11.8558543 ,  7.57851213,  6.28779276, 12.43580895, 10.33035053,\n",
       "       11.46683409, 13.41589968,  9.3757712 ,  9.24177378, 10.48697575,\n",
       "       10.18244409, 10.98367495, 12.44850915, 11.21257994, 14.18985229,\n",
       "        8.16976198,  7.55586459, 11.56965245,  8.35257   , 10.315524  ,\n",
       "        6.67320875, 11.18087933,  7.14549165, 10.09137243, 10.54402319,\n",
       "        7.01299388, 13.68384615, 11.97996516,  9.07179874, 12.27743946,\n",
       "       10.02873554, 10.55272036, 10.68568596,  9.45857071,  5.56247624,\n",
       "       10.49374993,  8.8221652 , 12.49919025, 10.29645558, 11.28510825,\n",
       "        7.96336135, 12.03363938, 12.55724819,  9.01095967,  8.63243038,\n",
       "        9.25453185, 10.8293115 , 14.52072161,  6.41569404, 10.15406383,\n",
       "        7.48865674, 12.25014553, 10.28934993,  7.69474191,  8.58531671,\n",
       "        3.99694142, 10.3389063 , 13.14951839,  7.24340393,  6.17606622,\n",
       "        9.98031224,  6.19047224, 10.27751188, 12.55689373,  9.86322187,\n",
       "        8.78736365, 10.57473988, 11.8661679 , 10.59905006, 10.09075577,\n",
       "        9.93438942,  7.2611149 ,  9.72958581, 10.80179234, 10.85915564,\n",
       "       13.87455255, 12.95104068, 11.57598665, 10.72740335, 10.18256296,\n",
       "        7.55538723,  8.05101288,  9.82448674, 13.7481419 ,  7.32936508,\n",
       "        7.99257004, 12.26440138, 10.44205626,  7.62934027,  8.74757684,\n",
       "       11.19997283, 10.86085432, 12.7867998 ,  9.2518819 ,  9.61526931,\n",
       "        7.12515591, 12.77263369, 10.95504702,  9.06965406, 11.41316694,\n",
       "       11.3189097 , 11.93879056,  7.8277263 , 10.20620324, 13.94480786,\n",
       "       10.0593219 ,  8.82006518, 10.73562662, 10.70606586,  6.97852051,\n",
       "       11.00848773, 13.17502903, 10.67812268, 12.96340026, 10.3169485 ,\n",
       "        9.30460437, 12.04538377, 11.08340548,  6.54097829, 10.22947298,\n",
       "       11.98033148, 12.31215405, 11.48461584,  7.17736505, 12.1870169 ,\n",
       "        8.84103675,  6.99683887,  7.31569331, 13.0351491 , 10.72965595,\n",
       "       12.4299251 ,  7.14991204,  7.12683952,  8.86683934,  7.6127552 ,\n",
       "       12.57512818,  6.7502053 ,  8.93636785,  9.9287057 , 12.07090499,\n",
       "       11.64510401, 12.48273976,  8.23488419,  7.88388612,  6.97899894,\n",
       "        8.23508804,  8.11140221, 10.31232568, 13.68731762, 12.33513851,\n",
       "       10.09311001, 10.96715453,  8.9249553 ,  8.81630346,  9.40115828,\n",
       "       13.34965187, 13.76158408,  7.19653451, 10.25956329,  8.10087187,\n",
       "        9.6236299 ,  9.01374251, 10.63012957,  6.39250216,  7.34073983,\n",
       "        7.51915379, 10.22399346,  9.01393564, 10.33693984, 10.1192765 ,\n",
       "       10.31504794,  9.08861546, 13.29741991, 12.51360351,  7.15328414,\n",
       "       10.50616946,  7.71102625, 10.68706653,  8.13133645,  6.60205141,\n",
       "        7.5002276 , 11.66575604,  6.33916611, 11.51803544,  8.54463424,\n",
       "       10.67792443,  4.53773764, 12.43560028,  8.02065425,  7.01141513,\n",
       "       10.50261049, 10.46829343, 11.03952842, 10.99986111, 11.83979101,\n",
       "       10.70257127, 11.82864346, 11.22606431,  9.58505886, 10.81433023,\n",
       "       10.97008419,  6.56993296, 10.32023955, 12.1370514 , 11.9899908 ,\n",
       "        8.69886903, 11.2840366 , 12.54170431, 10.04586594, 10.71928383,\n",
       "        9.22367279,  8.8348141 , 10.61844666, 15.70864929, 11.02923537,\n",
       "        7.9771313 , 11.39709102,  9.56222424,  6.43384004, 10.25822298,\n",
       "       11.19642876, 11.6915008 ,  7.80883393, 12.10629625,  9.98673195,\n",
       "        8.14935811, 12.65552671,  8.43977397, 12.82792821, 14.75455479,\n",
       "       10.94559384,  6.82035756, 11.80443246, 11.04867943,  7.42034485,\n",
       "        8.64886944, 10.88694486,  8.57944946,  8.61689837, 10.32155332,\n",
       "        8.76092373,  9.0367902 , 10.86896692, 10.79297326,  6.07269141,\n",
       "       10.09466143,  8.78491555, 12.66274916,  6.4266786 ,  6.87755658,\n",
       "       12.6052815 , 12.81431833, 11.59898382, 11.80528341, 11.76575039,\n",
       "       10.38897143,  7.84003784,  8.25360913, 13.61068373,  8.53728859,\n",
       "       11.88476226, 11.72728983,  7.17764049, 11.49680502, 10.01963969,\n",
       "        6.71361056, 11.88492923,  9.39705379,  9.18056922, 11.35927271,\n",
       "        8.98221164,  5.99314501, 11.24263848, 11.54225685,  8.39140899,\n",
       "       12.0537623 ,  8.6258344 ,  8.21773645,  9.50127217, 10.57314428,\n",
       "        8.53284601,  6.76568679,  8.963981  ,  8.34124577, 12.85027858,\n",
       "       10.75620624, 12.51916426,  6.38163737,  7.136166  , 13.18377291,\n",
       "        7.68515585, 10.36348724, 11.69044449, 13.25950281, 10.05152683,\n",
       "        9.74781966,  7.28562408,  8.6801187 , 10.56658082, 11.41785171,\n",
       "       11.50378977, 14.40679588, 11.80927535,  9.30603621, 10.21393871,\n",
       "       10.71065581,  8.37506417, 13.59517647,  7.82785269, 16.48001934,\n",
       "       13.09834631, 11.28586796,  7.86511229, 12.80297947, 12.5880997 ,\n",
       "       13.22580262, 10.5024037 , 10.22052366, 10.42744919,  9.19617156,\n",
       "        8.81996769, 12.21041652, 11.8557176 , 11.21255846,  9.04395868,\n",
       "       10.18612971, 10.81958709,  9.98309546, 10.99713023, 10.58375214,\n",
       "       12.11502904, 11.64198447, 10.74638091,  8.24810776, 11.27737472,\n",
       "        7.00085809,  7.90110271, 10.55101851, 12.98520361,  9.3497417 ,\n",
       "        7.06359831, 12.04789822, 13.46572182,  9.83151613, 12.34508863,\n",
       "       13.86449528, 11.1856962 ,  9.77933222, 12.65725951, 11.09488544,\n",
       "       10.03723555,  7.82164207,  7.83163944,  9.38198631,  6.77400712,\n",
       "       10.33239379,  7.27243159, 10.98120528, 10.54596233,  9.29330315,\n",
       "       10.62121327,  7.85581273, 10.19332048, 10.36499901,  5.56722214,\n",
       "       10.22615716, 12.20959869,  8.27881228, 10.90573036,  8.92940499,\n",
       "       12.68412572,  9.81624734, 10.78815717,  8.76540226,  7.84926515,\n",
       "        8.59855993,  8.41734651, 11.93998184, 13.74715576,  6.91658777,\n",
       "        7.35644174, 10.95827515, 11.55621263, 11.28325459, 11.80061873,\n",
       "        6.3614104 , 11.21060722,  6.50977277,  6.05908903, 10.29624336,\n",
       "        4.54757707,  8.41393155, 11.2802698 , 10.0110069 ,  3.68003982,\n",
       "       11.37132327,  8.69966304,  9.30933433,  9.80411776,  6.17631688,\n",
       "        7.0843257 , 11.41399189, 14.42771016, 10.70630995, 14.56423856,\n",
       "        9.6412204 ,  6.74479468, 10.67859841,  9.84992702, 13.56870685,\n",
       "       11.0470901 ,  9.1151993 ,  6.6956495 ,  6.75934282,  7.87498187,\n",
       "        6.95142954, 11.28578319,  8.34459115, 13.97371591, 11.58036586,\n",
       "       11.30968336, 11.31443486,  6.13121255,  6.70465016, 11.74417346,\n",
       "       10.12437315,  7.61507673, 11.68182916,  6.81911539, 10.63198516,\n",
       "        9.28028647, 11.54687099, 11.53617992,  8.88642512, 11.10958388,\n",
       "       10.06658825,  9.71123743, 12.59238952,  9.08232287, 10.89861981,\n",
       "       11.55082904,  5.10193006, 10.90061925,  7.18282301, 11.96683109,\n",
       "        7.99214525,  8.69677323, 12.0714711 ,  6.84747503, 11.43175703,\n",
       "       13.77542635, 12.58543438,  6.46691027, 12.55529043, 13.0344703 ,\n",
       "        9.77855355, 11.16196263, 11.69092243,  5.10846017,  9.02769613,\n",
       "       10.39056964,  9.88730633, 11.16363393,  9.10109013, 11.75881793,\n",
       "       12.79479352, 13.54853947,  9.49204839,  9.49134173, 11.83579924,\n",
       "        7.74014898, 11.59635197,  8.79045295, 11.3506338 ,  9.36418506,\n",
       "        9.65209791,  6.37111271,  6.35967168, 10.0100342 ,  8.6957715 ,\n",
       "       12.23372128,  9.00637906,  7.3201686 ,  7.93027575, 10.97139779,\n",
       "       13.24104601])"
      ]
     },
     "execution_count": 77,
     "metadata": {},
     "output_type": "execute_result"
    }
   ],
   "source": [
    "rg_pred=rg.predict(x_test)\n",
    "rg_pred"
   ]
  },
  {
   "cell_type": "code",
   "execution_count": 78,
   "metadata": {},
   "outputs": [
    {
     "data": {
      "text/plain": [
       "array([-0.22643671, -0.64157461,  0.3827643 ,  0.94576251,  0.6811262 ,\n",
       "       -1.83419413,  0.45888737,  1.81285216])"
      ]
     },
     "execution_count": 78,
     "metadata": {},
     "output_type": "execute_result"
    }
   ],
   "source": [
    "rg.coef_"
   ]
  },
  {
   "cell_type": "code",
   "execution_count": 79,
   "metadata": {},
   "outputs": [
    {
     "data": {
      "text/plain": [
       "0.4530550678711963"
      ]
     },
     "execution_count": 79,
     "metadata": {},
     "output_type": "execute_result"
    }
   ],
   "source": [
    "metrics.r2_score(y_test,rg_pred)"
   ]
  },
  {
   "cell_type": "code",
   "execution_count": 80,
   "metadata": {},
   "outputs": [
    {
     "data": {
      "text/plain": [
       "2.349743380895054"
      ]
     },
     "execution_count": 80,
     "metadata": {},
     "output_type": "execute_result"
    }
   ],
   "source": [
    "np.sqrt(mean_squared_error(y_test,rg_pred))"
   ]
  }
 ],
 "metadata": {
  "kernelspec": {
   "display_name": "Python 3",
   "language": "python",
   "name": "python3"
  },
  "language_info": {
   "codemirror_mode": {
    "name": "ipython",
    "version": 3
   },
   "file_extension": ".py",
   "mimetype": "text/x-python",
   "name": "python",
   "nbconvert_exporter": "python",
   "pygments_lexer": "ipython3",
   "version": "3.8.5"
  }
 },
 "nbformat": 4,
 "nbformat_minor": 4
}
